{
 "cells": [
  {
   "cell_type": "markdown",
   "metadata": {
    "colab_type": "text",
    "id": "wPy9pK98kg_x"
   },
   "source": [
    "# A Hitchhiker's Guide to Indian Patent Analytics\n",
    "\n",
    "This notebook is intended to be read with the article of the same title [published on LinkedIn](https://www.linkedin.com/pulse/hitchhikers-guide-indian-patent-analytics-sanjay-dasgupta).\n",
    "\n",
    "Please note that all outputs (except the scatter-plot at the end) have been cleared to reduce the size of the saved notebook."
   ]
  },
  {
   "cell_type": "markdown",
   "metadata": {},
   "source": [
    "### Preliminaries"
   ]
  },
  {
   "cell_type": "code",
   "execution_count": null,
   "metadata": {},
   "outputs": [],
   "source": [
    "import pandas as pd\n",
    "import re\n",
    "import numpy as np\n",
    "import matplotlib.pyplot as plt\n",
    "\n",
    "%matplotlib inline"
   ]
  },
  {
   "cell_type": "markdown",
   "metadata": {
    "colab_type": "text",
    "id": "ysSPh8_7qJwC"
   },
   "source": [
    "### Load Excel File Downloaded from Patentscope"
   ]
  },
  {
   "cell_type": "code",
   "execution_count": null,
   "metadata": {
    "colab": {
     "base_uri": "https://localhost:8080/",
     "height": 51
    },
    "colab_type": "code",
    "id": "88DqzHxklr6a",
    "outputId": "17e07a17-73ed-4417-b792-81907f8ac827"
   },
   "outputs": [],
   "source": [
    "df = pd.read_excel('resultList2.xls', 'ResultSet')\n",
    "df.columns = [col.lower().replace(' ', '_') for col in df.columns]\n",
    "\n",
    "print('Data has %d rows and %d columns' % df.shape)\n",
    "print('Column names: %s' % ', '.join(df.columns))"
   ]
  },
  {
   "cell_type": "markdown",
   "metadata": {
    "colab_type": "text",
    "id": "5-DAm_xIqqnQ"
   },
   "source": [
    "# Preliminary Data Analysis and Enrichment"
   ]
  },
  {
   "cell_type": "markdown",
   "metadata": {
    "colab_type": "text",
    "id": "j2uOCKrWtzEI"
   },
   "source": [
    "### Add a *company* column"
   ]
  },
  {
   "cell_type": "code",
   "execution_count": null,
   "metadata": {
    "colab": {},
    "colab_type": "code",
    "id": "zQ_G6tZMmCBY"
   },
   "outputs": [],
   "source": [
    "df['company'] = np.where(df['applicants'].str.contains('TATA STEEL'), \n",
    "    'TATA', 'SAIL')"
   ]
  },
  {
   "cell_type": "markdown",
   "metadata": {
    "colab_type": "text",
    "id": "SsAM_iVIt4vA"
   },
   "source": [
    "### Calculate and Display Relative Patent Counts"
   ]
  },
  {
   "cell_type": "code",
   "execution_count": null,
   "metadata": {
    "colab": {
     "base_uri": "https://localhost:8080/",
     "height": 390
    },
    "colab_type": "code",
    "id": "1VFLjkMWpJxn",
    "outputId": "29082033-e7d6-4ca1-cc13-44e8fb2adc29"
   },
   "outputs": [],
   "source": [
    "counts = df['company'].value_counts()\n",
    "\n",
    "print(counts)\n",
    "print('')\n",
    "\n",
    "ax = counts.plot.pie(figsize=(5, 5))\n",
    "ax.set_title('Relative Counts', fontsize=18)\n",
    "ax.set_ylabel('')\n",
    "None"
   ]
  },
  {
   "cell_type": "markdown",
   "metadata": {
    "colab_type": "text",
    "id": "SsAM_iVIt4vA"
   },
   "source": [
    "### Display Some Sample Data"
   ]
  },
  {
   "cell_type": "code",
   "execution_count": null,
   "metadata": {
    "colab": {
     "base_uri": "https://localhost:8080/",
     "height": 649
    },
    "colab_type": "code",
    "id": "fNo7-D3e2l6O",
    "outputId": "109d1031-2aa7-4616-ea49-c0747ae97c66"
   },
   "outputs": [],
   "source": [
    "df[['publication_number', 'publication_date', 'title', 'ipc', 'company', 'inventors']].sample(5)"
   ]
  },
  {
   "cell_type": "markdown",
   "metadata": {
    "colab_type": "text",
    "id": "DX-wYsHguIaQ"
   },
   "source": [
    "# *Feature Engineering* -- Convert IPC codes into Text (*Sentences*)\n",
    "\n",
    "Convert the IPC codes into *sentences* to facilitate subsequent processing with scikit-learn's [text-feature-extraction](http://scikit-learn.org/stable/modules/feature_extraction.html#text-feature-extraction) capabilities.\n",
    "\n",
    "### Extract IPC codes into arrays"
   ]
  },
  {
   "cell_type": "code",
   "execution_count": null,
   "metadata": {
    "colab": {
     "base_uri": "https://localhost:8080/",
     "height": 51
    },
    "colab_type": "code",
    "id": "lYdAAaaKv0bS",
    "outputId": "82fdd738-4fe6-47ec-975d-3a2b5214c503"
   },
   "outputs": [],
   "source": [
    "ipc_regex = re.compile('[A-H]\\s*[0-9]{2}\\s*[A-Z]\\s*(?:[0-9]+(?:/(?:[0-9]+)?)?)?')\n",
    "\n",
    "df['ipc_list'] = df['ipc'].str.findall(ipc_regex)\n",
    "df = df[df['ipc_list'].str.len() != 0]\n",
    "\n",
    "print('Count of records with IPCs: %d' % len(df))\n",
    "ipclen = df['ipc_list'].str.len()\n",
    "print('IPC nbr: min=%d, mean=%f, max=%d' % (ipclen.min(), ipclen.mean(), ipclen.max()))"
   ]
  },
  {
   "cell_type": "markdown",
   "metadata": {
    "colab_type": "text",
    "id": "SsAM_iVIt4vA"
   },
   "source": [
    "### IPC to Sentence Converter"
   ]
  },
  {
   "cell_type": "code",
   "execution_count": null,
   "metadata": {
    "colab": {
     "base_uri": "https://localhost:8080/",
     "height": 34
    },
    "colab_type": "code",
    "id": "KEHADwGkuUMX",
    "outputId": "18df92d4-2cc7-4b52-c885-bab655c50a2a"
   },
   "outputs": [],
   "source": [
    "ipc_pattern = '([A-H])\\s*(?:(\\d{2})\\s*(?:([A-Z])\\s*(?:(\\d+)\\s*(?:/\\s*(\\d+))?)?)?)?'\n",
    "ipcregex = re.compile(ipc_pattern)\n",
    "\n",
    "def ipc_sentence(ipc):\n",
    "    parts = [part.strip('[ /]') for part in re.match(ipcregex, ipc).groups() if part]\n",
    "    s = parts[0]\n",
    "    if len(parts) > 1:\n",
    "        s += ' ' + parts[0] + parts[1]\n",
    "        if len(parts) > 2:\n",
    "            s += ' ' + parts[0] + parts[1] + parts[2]\n",
    "            if len(parts) > 3:\n",
    "                s += ' ' + parts[0] + parts[1] + parts[2] + parts[3]\n",
    "                if len(parts) > 4:\n",
    "                    s += ' ' + parts[0] + parts[1] + parts[2] + parts[3] + parts[4]\n",
    "    return s\n",
    "\n",
    "def multi_ipc_sentence(ipcs):\n",
    "    return ' '.join([ipc_sentence(ipc) for ipc in ipcs])"
   ]
  },
  {
   "cell_type": "markdown",
   "metadata": {
    "colab_type": "text",
    "id": "SsAM_iVIt4vA"
   },
   "source": [
    "### Test IPC to Sentence Conversion"
   ]
  },
  {
   "cell_type": "code",
   "execution_count": null,
   "metadata": {
    "colab": {
     "base_uri": "https://localhost:8080/",
     "height": 34
    },
    "colab_type": "code",
    "id": "KEHADwGkuUMX",
    "outputId": "18df92d4-2cc7-4b52-c885-bab655c50a2a"
   },
   "outputs": [],
   "source": [
    "multi_ipc_sentence(['A 13 K 127 / 999'])"
   ]
  },
  {
   "cell_type": "markdown",
   "metadata": {
    "colab_type": "text",
    "id": "SsAM_iVIt4vA"
   },
   "source": [
    "### Convert all IPC Codes"
   ]
  },
  {
   "cell_type": "markdown",
   "metadata": {
    "colab_type": "text",
    "id": "SsAM_iVIt4vA"
   },
   "source": [
    "### Display Converted Sentence Samples"
   ]
  },
  {
   "cell_type": "code",
   "execution_count": null,
   "metadata": {
    "colab": {
     "base_uri": "https://localhost:8080/",
     "height": 204
    },
    "colab_type": "code",
    "id": "BIopCicpvVdz",
    "outputId": "69358949-54a8-4f27-d1e1-205da0845343"
   },
   "outputs": [],
   "source": [
    "ipc_sentence = df['ipc_list'].map(multi_ipc_sentence)\n",
    "ipc_sentence.sample(10)"
   ]
  },
  {
   "cell_type": "markdown",
   "metadata": {
    "colab_type": "text",
    "id": "SsAM_iVIt4vA"
   },
   "source": [
    "# Apply Text-Processing Techniques"
   ]
  },
  {
   "cell_type": "markdown",
   "metadata": {
    "colab_type": "text",
    "id": "46vuDRga15SX"
   },
   "source": [
    "### Generate TF-IDF Word Counts"
   ]
  },
  {
   "cell_type": "code",
   "execution_count": null,
   "metadata": {
    "colab": {
     "base_uri": "https://localhost:8080/",
     "height": 34
    },
    "colab_type": "code",
    "id": "Gt3R2c_WxKSt",
    "outputId": "836984a4-46e9-4170-8854-cde068c8d1bb"
   },
   "outputs": [],
   "source": [
    "from sklearn.feature_extraction.text import TfidfVectorizer\n",
    "\n",
    "vectorizer = TfidfVectorizer(use_idf=True, stop_words='english').fit(ipc_sentence)\n",
    "tf = vectorizer.transform(ipc_sentence)\n",
    "print('Rows: %d, Features: %d' % tf.shape)"
   ]
  },
  {
   "cell_type": "markdown",
   "metadata": {
    "colab_type": "text",
    "id": "SsAM_iVIt4vA"
   },
   "source": [
    "# Prepare Word Counts for Scatter Plot Display"
   ]
  },
  {
   "cell_type": "markdown",
   "metadata": {
    "colab_type": "text",
    "id": "Tx53DtDU1o0I"
   },
   "source": [
    "### Use TruncatedSVD to Reduce to 50 Features"
   ]
  },
  {
   "cell_type": "code",
   "execution_count": null,
   "metadata": {
    "colab": {
     "base_uri": "https://localhost:8080/",
     "height": 34
    },
    "colab_type": "code",
    "id": "BYMQCQLTxRcE",
    "outputId": "0600812d-afc8-4f50-b92b-cef3173eaa5c"
   },
   "outputs": [],
   "source": [
    "from sklearn.decomposition import TruncatedSVD\n",
    "\n",
    "tsvd = TruncatedSVD(n_components=50)\n",
    "tsvd100 = tsvd.fit_transform(tf)\n",
    "print('Rows: %d, Features: %d' % tsvd100.shape)"
   ]
  },
  {
   "cell_type": "markdown",
   "metadata": {
    "colab_type": "text",
    "id": "IBPTaK301DTr"
   },
   "source": [
    "### Use t-SNE to Obtain 2-D (X, Y) Mapping"
   ]
  },
  {
   "cell_type": "code",
   "execution_count": null,
   "metadata": {
    "colab": {
     "base_uri": "https://localhost:8080/",
     "height": 34
    },
    "colab_type": "code",
    "id": "NESVi2zFxV2j",
    "outputId": "7e47bfb2-1754-4eb2-d930-64e62b6c4f56"
   },
   "outputs": [],
   "source": [
    "from sklearn.manifold import TSNE\n",
    "\n",
    "tsne = TSNE(n_components=2).fit_transform(tsvd100)\n",
    "print('Rows: %d, Features: %d' % tsne.shape)"
   ]
  },
  {
   "cell_type": "code",
   "execution_count": null,
   "metadata": {},
   "outputs": [],
   "source": [
    "tsne[:10, :]"
   ]
  },
  {
   "cell_type": "markdown",
   "metadata": {
    "colab_type": "text",
    "id": "AbpEn-va1VUy"
   },
   "source": [
    "### Scatter Plot of 2-D Data"
   ]
  },
  {
   "cell_type": "code",
   "execution_count": 15,
   "metadata": {
    "colab": {
     "base_uri": "https://localhost:8080/",
     "height": 516
    },
    "colab_type": "code",
    "id": "GOTsnejPxc8s",
    "outputId": "c7a2b2ed-fea5-49a5-bb27-8dad8a1db04f"
   },
   "outputs": [
    {
     "data": {
      "image/png": "[encoded data removed]",
      "text/plain": [
       "<matplotlib.figure.Figure at 0x7fd8740f3940>"
      ]
     },
     "metadata": {},
     "output_type": "display_data"
    }
   ],
   "source": [
    "color1 = 'green'\n",
    "color2 = 'crimson'\n",
    "tsne_df = pd.DataFrame(tsne, columns=['x', 'y'])\n",
    "colors = np.where(df['company'] == 'TATA', color1, color2)\n",
    "ax = tsne_df.plot.scatter(x='x', y='y', figsize=(8, 8), grid=True, \n",
    "   alpha=0.5, color=colors, edgecolors='white', s=96)\n",
    "ax.set_xlabel('')\n",
    "ax.set_ylabel('')\n",
    "ax.text(-27, 25.5, 'T**A', color=color1, fontsize=14)\n",
    "ax.text(-27, 23, 'S**L', color=color2, fontsize=14)\n",
    "ax.set_title('IPC Code Comparison (t-SNE)', fontsize=18)\n",
    "ax.set_xticklabels(['' for i in range(6)])\n",
    "ax.set_yticklabels(['' for i in range(7)])\n",
    "plt.savefig('ipc-scatter-tsne.png')\n",
    "None"
   ]
  },
  {
   "cell_type": "code",
   "execution_count": null,
   "metadata": {},
   "outputs": [],
   "source": []
  }
 ],
 "metadata": {
  "colab": {
   "name": "ipc-scatter-map.ipynb",
   "provenance": [],
   "version": "0.3.2"
  },
  "kernelspec": {
   "display_name": "Python 3",
   "language": "python",
   "name": "python3"
  },
  "language_info": {
   "codemirror_mode": {
    "name": "ipython",
    "version": 3
   },
   "file_extension": ".py",
   "mimetype": "text/x-python",
   "name": "python",
   "nbconvert_exporter": "python",
   "pygments_lexer": "ipython3",
   "version": "3.6.3"
  }
 },
 "nbformat": 4,
 "nbformat_minor": 2
}
