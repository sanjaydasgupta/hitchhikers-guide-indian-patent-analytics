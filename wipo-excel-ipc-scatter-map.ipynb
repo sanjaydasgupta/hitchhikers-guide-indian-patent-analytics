{
 "cells": [
  {
   "cell_type": "markdown",
   "metadata": {
    "colab_type": "text",
    "id": "wPy9pK98kg_x"
   },
   "source": [
    "# __This Notebook is still a *Work in Progress*__"
   ]
  },
  {
   "cell_type": "markdown",
   "metadata": {
    "colab_type": "text",
    "id": "wPy9pK98kg_x"
   },
   "source": [
    "# A Hitchhiker's Guide to Indian Patent Analytics\n",
    "\n",
    "This notebook is intended to be read with the article of the same title [published on LinkedIn](https://www.linkedin.com/pulse/draft/AgGvJ9CZkdm63AAAAWZmrUzA6jtaXXUHIq2OjKruZEKaxFrRZp1Adc-nunE7H5pnVU8DakU).\n",
    "\n",
    "This article shows how patent Informatics studies of Indian patent data can be performed using entirely free tools and patent databases. The power of such techniques is certainly limited, but as the featured example shows, even certain moderately sophisticated studies can be performed. The results of such studies are valuable on their own, but these efforts are also effective learning and training aids, and are also very useful for planning larger patent informatics projects before investing in commercial tools and resources.\n",
    "\n",
    "The approach described here has been usable [since mid-March 2018](http://www.wipo.int/patentscope/en/news/pctdb/2018/news_0002.html) when Indian patent data became available at [WIPO](http://www.wipo.int)'s patent-search portal [PATENTSCOPE](https://patentscope.wipo.int/). The crucial enabler is the *PATENTSCOPE* feature that allows search results to be downloaded to the user's computer for further processing. The result of searches performed on the Indian Patent Office's search portal [inPASS](https://ipindiaservices.gov.in/publicsearch) can not be downloaded."
   ]
  },
  {
   "cell_type": "markdown",
   "metadata": {
    "colab_type": "text",
    "id": "wPy9pK98kg_x"
   },
   "source": [
    "### Structure of this Notebook\n",
    "\n",
    "This notebook deals with knowledge from two very different domains: *patent search* (see [wipo](http://www.wipo.int/patents), [wikipedia](https://en.wikipedia.org/wiki/Patent)), and *machine learning* (see [wikipedia](https://en.wikipedia.org/wiki/Machine_learning)), and the article also has two sections with corresponding titles. The first part, *Patent Search*, can be read and undertood well even by those without a background in patents. But the second part, *Machine Learning*, is considerably more specialized, and is likely to be confusing for most patent professionals. Despite the hype surrounding machine learning (see [Data Scientist: The Sexiest Job of the 21st Century](https://hbr.org/2012/10/data-scientist-the-sexiest-job-of-the-21st-century)) it still remains a very niche skill, so even getting a feel for the possibilities that these techniques open up is probably a win.\n",
    "\n",
    "The last part of the article, titled *Conclusions*, summarizes the main takeaways from the article."
   ]
  },
  {
   "cell_type": "markdown",
   "metadata": {},
   "source": [
    "### What is Patent Analytics?\n",
    "\n",
    "Patent analytics, patent informatics or just *patinformatics*, [has been defined as](https://pdfs.semanticscholar.org/bcd7/beec3e15a7351a98b402e9fd84ef82f841d7.pdf) \n",
    "\"*the science of analyzing patent information to discover relationships and trends*\", \n",
    "and as \"*... a macro-level science, that is analysis that deals with large quantities of patent information*\". \n",
    "You can read more about it in the Wikipedia article on [Patent Visualization](https://en.wikipedia.org/wiki/Patent_visualisation).\n",
    "\n",
    "The result of a patent analytics project is often expressed as charts, graphs, plots, and maps. Examples can be seen in slide 8 of [Spatial Concept Mapping as a Patent Landscaping Task](http://www.wipo.int/edocs/mdocs/mdocs/en/wipo_ip_rio_13/wipo_ip_rio_13_www_17.pdf) (PDF) and the topic maps in [this patent portfolio analysis](https://www.relecura.com/reports/Relecura_Whitepaper_-_Topic_Maps.pdf). A list of commercial patent analytics tools can be found in [Patent Analysis, Mapping, and Visualization Tools](https://wiki.piug.org/display/PIUG/Patent+Analysis%2C+Mapping%2C+and+Visualization+Tools)."
   ]
  },
  {
   "cell_type": "markdown",
   "metadata": {},
   "source": [
    "### The Example Project\n",
    "\n",
    "(To be Defined)"
   ]
  },
  {
   "cell_type": "markdown",
   "metadata": {
    "colab_type": "text",
    "id": "ysSPh8_7qJwC"
   },
   "source": [
    "## Part-1. Patent Search\n",
    "\n",
    "This part explains how the patent data used for this analysis was downloaded as an [Excel spreadsheet](https://en.wikipedia.org/wiki/Microsoft_Excel) from PATENTSCOPE. Since the analysis requires a good number of patent applications from two competing organizations in the same industry, [Tata Steel](https://en.wikipedia.org/wiki/Tata_Steel) and [Steel Authority of India](https://en.wikipedia.org/wiki/Steel_Authority_of_India) were selected. These two organizations are sufficiently similar to be effective as sources of data for a comparative study of this nature.\n",
    "\n",
    "### Search Parameters\n",
    "\n",
    "The first step is to select Field Combination from the Search menu as seen in Figure-1 below.\n",
    "\n",
    "<br/>\n",
    "<br/>\n",
    "<img src=\"patentscope-011.png\" height=\"75%\" width=\"75%\"/><br/>\n",
    "__Figure-1. Selecting \"Field Combination\" search__\n",
    "<br/>\n",
    "<br/>\n",
    "\n",
    "When *Field Combination* is selected, the form expands to accommodate the choice of a large number of input parameters. To obtain the data for this exercise, three search fields were used as seen in Figure-2 below.\n",
    "\n",
    "<br/>\n",
    "<br/>\n",
    "<img src=\"patentscope-025.png\" height=\"75%\" width=\"75%\"/><br/>\n",
    "__Figure-2. Entering search parameters__\n",
    "<br/>\n",
    "<br/>\n",
    "\n",
    "Setting *Office Code* to *IN* indicates our interest in data only from the Indian Patent Office. Setting *Applicant Name* as shown above yields applications from the two companies we chose earlier, and setting the *Publication Date* as shown limits the applications listed to those published in the last 5 years. Observe that the number of records matching the search criteria is shown at the bottom of the screen to the left of the *Search* button. The data produced by these settings is convenient for illustrating the ideas described in this article. You can read about the other settings and features in PATENTSCOPE's extensive [User's Guide](https://patentscope.wipo.int/search/en/help/users_guide_summer2017.pdf) (PDF)."
   ]
  },
  {
   "cell_type": "markdown",
   "metadata": {},
   "source": [
    "### Downloading Results\n",
    "\n",
    "Clicking the Search button near the bottom right displays the results screen seen in Figure-3 below.\n",
    "\n",
    "<br/>\n",
    "<br/>\n",
    "<img src=\"patentscope-038.png\" height=\"75%\" width=\"75%\"/><br/>\n",
    "__Figure-3. Search results screen__\n",
    "<br/>\n",
    "<br/>\n",
    "\n",
    "The 592 records (red highlight near top-left) found can be downloaded as an Excel spreadsheet by clicking the download icon marked *10K* (red highlight near top-right). Observe that it is necessary to be logged in as an authorized user to be able to download the results.\n",
    "\n",
    "A free PATENTSCOPE account permits users to download *some* data, and the free quota is fortunately adequate for this demo exercise. Searches that produce large volumes of result data may, however, need to use a paid account. "
   ]
  },
  {
   "cell_type": "markdown",
   "metadata": {
    "colab_type": "text",
    "id": "ysSPh8_7qJwC"
   },
   "source": [
    "## Part-2. Machine Learning\n",
    "\n",
    "This description is provided only for publications of the content of this notebook in other media (e.g. LinkedIn)\n",
    "\n",
    "The following text and code "
   ]
  },
  {
   "cell_type": "markdown",
   "metadata": {},
   "source": [
    "### Preliminaries"
   ]
  },
  {
   "cell_type": "code",
   "execution_count": 2,
   "metadata": {},
   "outputs": [],
   "source": [
    "import pandas as pd\n",
    "import re\n",
    "import numpy as np\n",
    "import matplotlib.pyplot as plt\n",
    "\n",
    "%matplotlib inline"
   ]
  },
  {
   "cell_type": "markdown",
   "metadata": {
    "colab_type": "text",
    "id": "ysSPh8_7qJwC"
   },
   "source": [
    "### Load Excel File Downloaded from Patentscope"
   ]
  },
  {
   "cell_type": "code",
   "execution_count": 3,
   "metadata": {
    "colab": {
     "base_uri": "https://localhost:8080/",
     "height": 51
    },
    "colab_type": "code",
    "id": "88DqzHxklr6a",
    "outputId": "17e07a17-73ed-4417-b792-81907f8ac827"
   },
   "outputs": [
    {
     "name": "stdout",
     "output_type": "stream",
     "text": [
      "Data has 592 rows and 11 columns\n",
      "Column names: application_id, application_number, publication_number, publication_date, title, priority_data, ipc, applicants, inventors, fp_image, nat_phase_entries\n"
     ]
    }
   ],
   "source": [
    "df = pd.read_excel('resultList2.xls', 'ResultSet')\n",
    "df.columns = [col.lower().replace(' ', '_') for col in df.columns]\n",
    "\n",
    "print('Data has %d rows and %d columns' % df.shape)\n",
    "print('Column names: %s' % ', '.join(df.columns))"
   ]
  },
  {
   "cell_type": "markdown",
   "metadata": {
    "colab_type": "text",
    "id": "5-DAm_xIqqnQ"
   },
   "source": [
    "# Preliminary Data Analysis and Enrichment"
   ]
  },
  {
   "cell_type": "markdown",
   "metadata": {
    "colab_type": "text",
    "id": "j2uOCKrWtzEI"
   },
   "source": [
    "### Add a *company* column"
   ]
  },
  {
   "cell_type": "code",
   "execution_count": 4,
   "metadata": {
    "colab": {},
    "colab_type": "code",
    "id": "zQ_G6tZMmCBY"
   },
   "outputs": [],
   "source": [
    "df['company'] = np.where(df['applicants'].str.contains('TATA STEEL'), \n",
    "    'TATA', 'SAIL')"
   ]
  },
  {
   "cell_type": "markdown",
   "metadata": {
    "colab_type": "text",
    "id": "SsAM_iVIt4vA"
   },
   "source": [
    "### Calculate and Display Relative Patent Counts"
   ]
  },
  {
   "cell_type": "code",
   "execution_count": 5,
   "metadata": {
    "colab": {
     "base_uri": "https://localhost:8080/",
     "height": 390
    },
    "colab_type": "code",
    "id": "1VFLjkMWpJxn",
    "outputId": "29082033-e7d6-4ca1-cc13-44e8fb2adc29"
   },
   "outputs": [
    {
     "name": "stdout",
     "output_type": "stream",
     "text": [
      "TATA    374\n",
      "SAIL    218\n",
      "Name: company, dtype: int64\n",
      "\n"
     ]
    },
    {
     "data": {
      "image/png": "[encoded data removed]",
      "text/plain": [
       "<matplotlib.figure.Figure at 0x7f4d242c2898>"
      ]
     },
     "metadata": {},
     "output_type": "display_data"
    }
   ],
   "source": [
    "counts = df['company'].value_counts()\n",
    "\n",
    "print(counts)\n",
    "print('')\n",
    "\n",
    "ax = counts.plot.pie(figsize=(5, 5))\n",
    "ax.set_title('Relative Counts', fontsize=18)\n",
    "ax.set_ylabel('')\n",
    "None"
   ]
  },
  {
   "cell_type": "markdown",
   "metadata": {
    "colab_type": "text",
    "id": "SsAM_iVIt4vA"
   },
   "source": [
    "### Display Some Sample Data"
   ]
  },
  {
   "cell_type": "code",
   "execution_count": 6,
   "metadata": {
    "colab": {
     "base_uri": "https://localhost:8080/",
     "height": 649
    },
    "colab_type": "code",
    "id": "fNo7-D3e2l6O",
    "outputId": "109d1031-2aa7-4616-ea49-c0747ae97c66"
   },
   "outputs": [
    {
     "data": {
      "text/html": [
       "<div>\n",
       "<style scoped>\n",
       "    .dataframe tbody tr th:only-of-type {\n",
       "        vertical-align: middle;\n",
       "    }\n",
       "\n",
       "    .dataframe tbody tr th {\n",
       "        vertical-align: top;\n",
       "    }\n",
       "\n",
       "    .dataframe thead th {\n",
       "        text-align: right;\n",
       "    }\n",
       "</style>\n",
       "<table border=\"1\" class=\"dataframe\">\n",
       "  <thead>\n",
       "    <tr style=\"text-align: right;\">\n",
       "      <th></th>\n",
       "      <th>publication_number</th>\n",
       "      <th>publication_date</th>\n",
       "      <th>title</th>\n",
       "      <th>ipc</th>\n",
       "      <th>company</th>\n",
       "      <th>inventors</th>\n",
       "    </tr>\n",
       "  </thead>\n",
       "  <tbody>\n",
       "    <tr>\n",
       "      <th>515</th>\n",
       "      <td>IN1588/KOL/2011</td>\n",
       "      <td>26.08.2016</td>\n",
       "      <td>A SYSTEM FOR CHOCKING DETECTION OF ANY PERFORA...</td>\n",
       "      <td>E21B 43/12</td>\n",
       "      <td>SAIL</td>\n",
       "      <td>RAY UTTAM KUMAR</td>\n",
       "    </tr>\n",
       "    <tr>\n",
       "      <th>281</th>\n",
       "      <td>IN201631031494</td>\n",
       "      <td>16.03.2018</td>\n",
       "      <td>A METHOD FOR CONTROLLING THE SUPERHEAT OF LIQU...</td>\n",
       "      <td>C21B 7/00;C21B 5/00;C21B 13/00</td>\n",
       "      <td>TATA</td>\n",
       "      <td>MR. ANURAG TRIPATHI;MS. SOUMYA NALLURI;MR. HAR...</td>\n",
       "    </tr>\n",
       "    <tr>\n",
       "      <th>43</th>\n",
       "      <td>IN201631004217</td>\n",
       "      <td>10.11.2017</td>\n",
       "      <td>A PROCESS FOR THE DECARBURIZATION OF LOW-  MAN...</td>\n",
       "      <td>C21D 6/00</td>\n",
       "      <td>TATA</td>\n",
       "      <td>VEERENDRA SINGH;ARIJIT BISWAS;SUBRATA MUKHERJEE</td>\n",
       "    </tr>\n",
       "    <tr>\n",
       "      <th>142</th>\n",
       "      <td>IN171/KOL/2010</td>\n",
       "      <td>24.07.2015</td>\n",
       "      <td>A WATER-BASED LUBRICANT COMPOSITION FOR METAL ...</td>\n",
       "      <td>C10M 10/14</td>\n",
       "      <td>TATA</td>\n",
       "      <td>RITA GHOSH;NIKHILESH BANDYOPADHYAY;SUNITESH DA...</td>\n",
       "    </tr>\n",
       "    <tr>\n",
       "      <th>50</th>\n",
       "      <td>IN201631008556</td>\n",
       "      <td>10.11.2017</td>\n",
       "      <td>AN IMPROVED TUNDISH BOTTOM DESIGN TO MINIMIZE ...</td>\n",
       "      <td>C22C 33/04</td>\n",
       "      <td>TATA</td>\n",
       "      <td>Abhishek Chakraborty;Vikas Singh;Alok Kumar;Na...</td>\n",
       "    </tr>\n",
       "  </tbody>\n",
       "</table>\n",
       "</div>"
      ],
      "text/plain": [
       "    publication_number publication_date  \\\n",
       "515    IN1588/KOL/2011       26.08.2016   \n",
       "281     IN201631031494       16.03.2018   \n",
       "43      IN201631004217       10.11.2017   \n",
       "142     IN171/KOL/2010       24.07.2015   \n",
       "50      IN201631008556       10.11.2017   \n",
       "\n",
       "                                                 title  \\\n",
       "515  A SYSTEM FOR CHOCKING DETECTION OF ANY PERFORA...   \n",
       "281  A METHOD FOR CONTROLLING THE SUPERHEAT OF LIQU...   \n",
       "43   A PROCESS FOR THE DECARBURIZATION OF LOW-  MAN...   \n",
       "142  A WATER-BASED LUBRICANT COMPOSITION FOR METAL ...   \n",
       "50   AN IMPROVED TUNDISH BOTTOM DESIGN TO MINIMIZE ...   \n",
       "\n",
       "                                ipc company  \\\n",
       "515                      E21B 43/12    SAIL   \n",
       "281  C21B 7/00;C21B 5/00;C21B 13/00    TATA   \n",
       "43                        C21D 6/00    TATA   \n",
       "142                      C10M 10/14    TATA   \n",
       "50                       C22C 33/04    TATA   \n",
       "\n",
       "                                             inventors  \n",
       "515                                    RAY UTTAM KUMAR  \n",
       "281  MR. ANURAG TRIPATHI;MS. SOUMYA NALLURI;MR. HAR...  \n",
       "43     VEERENDRA SINGH;ARIJIT BISWAS;SUBRATA MUKHERJEE  \n",
       "142  RITA GHOSH;NIKHILESH BANDYOPADHYAY;SUNITESH DA...  \n",
       "50   Abhishek Chakraborty;Vikas Singh;Alok Kumar;Na...  "
      ]
     },
     "execution_count": 6,
     "metadata": {},
     "output_type": "execute_result"
    }
   ],
   "source": [
    "df[['publication_number', 'publication_date', 'title', 'ipc', 'company', 'inventors']].sample(5)"
   ]
  },
  {
   "cell_type": "markdown",
   "metadata": {
    "colab_type": "text",
    "id": "DX-wYsHguIaQ"
   },
   "source": [
    "# *Feature Engineering* -- Convert IPC codes into Text (*Sentences*)\n",
    "\n",
    "Convert the IPC codes into *sentences* to facilitate subsequent processing with scikit-learn's [text-feature-extraction](http://scikit-learn.org/stable/modules/feature_extraction.html#text-feature-extraction) capabilities.\n",
    "\n",
    "### Extract IPC codes into arrays"
   ]
  },
  {
   "cell_type": "code",
   "execution_count": 7,
   "metadata": {
    "colab": {
     "base_uri": "https://localhost:8080/",
     "height": 51
    },
    "colab_type": "code",
    "id": "lYdAAaaKv0bS",
    "outputId": "82fdd738-4fe6-47ec-975d-3a2b5214c503"
   },
   "outputs": [
    {
     "name": "stdout",
     "output_type": "stream",
     "text": [
      "Count of records with IPCs: 588\n",
      "IPC nbr: min=1, mean=1.406463, max=4\n"
     ]
    }
   ],
   "source": [
    "ipc_regex = re.compile('[A-H]\\s*[0-9]{2}\\s*[A-Z]\\s*(?:[0-9]+(?:/(?:[0-9]+)?)?)?')\n",
    "\n",
    "df['ipc_list'] = df['ipc'].str.findall(ipc_regex)\n",
    "df = df[df['ipc_list'].str.len() != 0]\n",
    "\n",
    "print('Count of records with IPCs: %d' % len(df))\n",
    "ipclen = df['ipc_list'].str.len()\n",
    "print('IPC nbr: min=%d, mean=%f, max=%d' % (ipclen.min(), ipclen.mean(), ipclen.max()))"
   ]
  },
  {
   "cell_type": "markdown",
   "metadata": {
    "colab_type": "text",
    "id": "SsAM_iVIt4vA"
   },
   "source": [
    "### IPC to Sentence Converter"
   ]
  },
  {
   "cell_type": "code",
   "execution_count": 8,
   "metadata": {
    "colab": {
     "base_uri": "https://localhost:8080/",
     "height": 34
    },
    "colab_type": "code",
    "id": "KEHADwGkuUMX",
    "outputId": "18df92d4-2cc7-4b52-c885-bab655c50a2a"
   },
   "outputs": [],
   "source": [
    "ipc_pattern = '([A-H])\\s*(?:(\\d{2})\\s*(?:([A-Z])\\s*(?:(\\d+)\\s*(?:/\\s*(\\d+))?)?)?)?'\n",
    "ipcregex = re.compile(ipc_pattern)\n",
    "\n",
    "def ipc_sentence(ipc):\n",
    "    parts = [part.strip('[ /]') for part in re.match(ipcregex, ipc).groups() if part]\n",
    "    s = parts[0]\n",
    "    if len(parts) > 1:\n",
    "        s += ' ' + parts[0] + parts[1]\n",
    "        if len(parts) > 2:\n",
    "            s += ' ' + parts[0] + parts[1] + parts[2]\n",
    "            if len(parts) > 3:\n",
    "                s += ' ' + parts[0] + parts[1] + parts[2] + parts[3]\n",
    "                if len(parts) > 4:\n",
    "                    s += ' ' + parts[0] + parts[1] + parts[2] + parts[3] + parts[4]\n",
    "    return s\n",
    "\n",
    "def multi_ipc_sentence(ipcs):\n",
    "    return ' '.join([ipc_sentence(ipc) for ipc in ipcs])"
   ]
  },
  {
   "cell_type": "markdown",
   "metadata": {
    "colab_type": "text",
    "id": "SsAM_iVIt4vA"
   },
   "source": [
    "### Test IPC to Sentence Conversion"
   ]
  },
  {
   "cell_type": "code",
   "execution_count": 9,
   "metadata": {
    "colab": {
     "base_uri": "https://localhost:8080/",
     "height": 34
    },
    "colab_type": "code",
    "id": "KEHADwGkuUMX",
    "outputId": "18df92d4-2cc7-4b52-c885-bab655c50a2a"
   },
   "outputs": [
    {
     "data": {
      "text/plain": [
       "'A A13 A13K A13K127 A13K127999'"
      ]
     },
     "execution_count": 9,
     "metadata": {},
     "output_type": "execute_result"
    }
   ],
   "source": [
    "multi_ipc_sentence(['A 13 K 127 / 999'])"
   ]
  },
  {
   "cell_type": "markdown",
   "metadata": {
    "colab_type": "text",
    "id": "SsAM_iVIt4vA"
   },
   "source": [
    "### Convert all IPC Codes"
   ]
  },
  {
   "cell_type": "markdown",
   "metadata": {
    "colab_type": "text",
    "id": "SsAM_iVIt4vA"
   },
   "source": [
    "### Display Converted Sentence Samples"
   ]
  },
  {
   "cell_type": "code",
   "execution_count": 10,
   "metadata": {
    "colab": {
     "base_uri": "https://localhost:8080/",
     "height": 204
    },
    "colab_type": "code",
    "id": "BIopCicpvVdz",
    "outputId": "69358949-54a8-4f27-d1e1-205da0845343"
   },
   "outputs": [
    {
     "data": {
      "text/plain": [
       "431                           F F16 F16K F16K31 F16K3100\n",
       "429                           H H02 H02J H02J13 H02J1300\n",
       "522                             F F24 F24J F24J2 F24J240\n",
       "174                           B B01 B01D B01D63 B01D6316\n",
       "132    B B32 B32B B32B15 B32B1501 C C22 C22C C22C38 C...\n",
       "408                            G G01 G01B G01B5 G01B5213\n",
       "302    G G01 G01R G01R31 G01R3100 G G01 G01N G01N3 G0...\n",
       "348    C C22 C22C C22C38 C22C3800 C C22 C22C C22C38 C...\n",
       "509                           C C21 C21D C21D11 C21D1100\n",
       "259                           B B82 B82Y B82Y30 B82Y3000\n",
       "Name: ipc_list, dtype: object"
      ]
     },
     "execution_count": 10,
     "metadata": {},
     "output_type": "execute_result"
    }
   ],
   "source": [
    "ipc_sentence = df['ipc_list'].map(multi_ipc_sentence)\n",
    "ipc_sentence.sample(10)"
   ]
  },
  {
   "cell_type": "markdown",
   "metadata": {
    "colab_type": "text",
    "id": "SsAM_iVIt4vA"
   },
   "source": [
    "# Apply Text-Processing Techniques"
   ]
  },
  {
   "cell_type": "markdown",
   "metadata": {
    "colab_type": "text",
    "id": "46vuDRga15SX"
   },
   "source": [
    "### Generate TF-IDF Word Counts"
   ]
  },
  {
   "cell_type": "code",
   "execution_count": 11,
   "metadata": {
    "colab": {
     "base_uri": "https://localhost:8080/",
     "height": 34
    },
    "colab_type": "code",
    "id": "Gt3R2c_WxKSt",
    "outputId": "836984a4-46e9-4170-8854-cde068c8d1bb"
   },
   "outputs": [
    {
     "name": "stdout",
     "output_type": "stream",
     "text": [
      "Rows: 588, Features: 984\n"
     ]
    }
   ],
   "source": [
    "from sklearn.feature_extraction.text import TfidfVectorizer\n",
    "\n",
    "vectorizer = TfidfVectorizer(use_idf=True, stop_words='english').fit(ipc_sentence)\n",
    "tf = vectorizer.transform(ipc_sentence)\n",
    "print('Rows: %d, Features: %d' % tf.shape)"
   ]
  },
  {
   "cell_type": "markdown",
   "metadata": {
    "colab_type": "text",
    "id": "SsAM_iVIt4vA"
   },
   "source": [
    "# Prepare Word Counts for Scatter Plot Display"
   ]
  },
  {
   "cell_type": "markdown",
   "metadata": {
    "colab_type": "text",
    "id": "Tx53DtDU1o0I"
   },
   "source": [
    "### Use TruncatedSVD to Reduce to 50 Features"
   ]
  },
  {
   "cell_type": "code",
   "execution_count": 12,
   "metadata": {
    "colab": {
     "base_uri": "https://localhost:8080/",
     "height": 34
    },
    "colab_type": "code",
    "id": "BYMQCQLTxRcE",
    "outputId": "0600812d-afc8-4f50-b92b-cef3173eaa5c"
   },
   "outputs": [
    {
     "name": "stdout",
     "output_type": "stream",
     "text": [
      "Rows: 588, Features: 50\n"
     ]
    }
   ],
   "source": [
    "from sklearn.decomposition import TruncatedSVD\n",
    "\n",
    "tsvd = TruncatedSVD(n_components=50)\n",
    "tsvd100 = tsvd.fit_transform(tf)\n",
    "print('Rows: %d, Features: %d' % tsvd100.shape)"
   ]
  },
  {
   "cell_type": "markdown",
   "metadata": {
    "colab_type": "text",
    "id": "IBPTaK301DTr"
   },
   "source": [
    "### Use t-SNE to Obtain 2-D (X, Y) Mapping"
   ]
  },
  {
   "cell_type": "code",
   "execution_count": 13,
   "metadata": {
    "colab": {
     "base_uri": "https://localhost:8080/",
     "height": 34
    },
    "colab_type": "code",
    "id": "NESVi2zFxV2j",
    "outputId": "7e47bfb2-1754-4eb2-d930-64e62b6c4f56"
   },
   "outputs": [
    {
     "name": "stdout",
     "output_type": "stream",
     "text": [
      "Rows: 588, Features: 2\n"
     ]
    }
   ],
   "source": [
    "from sklearn.manifold import TSNE\n",
    "\n",
    "tsne = TSNE(n_components=2).fit_transform(tsvd100)\n",
    "print('Rows: %d, Features: %d' % tsne.shape)"
   ]
  },
  {
   "cell_type": "code",
   "execution_count": 18,
   "metadata": {},
   "outputs": [
    {
     "data": {
      "text/plain": [
       "array([[-24.3688736 ,  14.39007759],\n",
       "       [  9.09978199,   1.02944446],\n",
       "       [ 10.35545826,  -8.10030556],\n",
       "       [ 15.68829155,  -2.74155211],\n",
       "       [ -6.04882145,  -4.24504471],\n",
       "       [ -0.49821216,   7.1280508 ],\n",
       "       [-14.48755455, -18.78851509],\n",
       "       [-12.86696815, -20.67894936],\n",
       "       [-23.49485016,   0.44699791],\n",
       "       [ 11.85651684,  14.91254044]], dtype=float32)"
      ]
     },
     "execution_count": 18,
     "metadata": {},
     "output_type": "execute_result"
    }
   ],
   "source": [
    "tsne[:10, :]"
   ]
  },
  {
   "cell_type": "markdown",
   "metadata": {
    "colab_type": "text",
    "id": "AbpEn-va1VUy"
   },
   "source": [
    "### Scatter Plot of 2-D Data"
   ]
  },
  {
   "cell_type": "code",
   "execution_count": 25,
   "metadata": {
    "colab": {
     "base_uri": "https://localhost:8080/",
     "height": 516
    },
    "colab_type": "code",
    "id": "GOTsnejPxc8s",
    "outputId": "c7a2b2ed-fea5-49a5-bb27-8dad8a1db04f"
   },
   "outputs": [
    {
     "data": {
      "image/png": "[encoded data removed]",
      "text/plain": [
       "<matplotlib.figure.Figure at 0x7f4cf1b764e0>"
      ]
     },
     "metadata": {},
     "output_type": "display_data"
    }
   ],
   "source": [
    "color1 = 'green'\n",
    "color2 = 'crimson'\n",
    "tsne_df = pd.DataFrame(tsne, columns=['x', 'y'])\n",
    "colors = np.where(df['company'] == 'TATA', color1, color2)\n",
    "ax = tsne_df.plot.scatter(x='x', y='y', figsize=(8, 8), grid=True, \n",
    "   alpha=0.5, color=colors, edgecolors='white', s=96)\n",
    "ax.set_xlabel('')\n",
    "ax.set_ylabel('')\n",
    "ax.text(-27, 25.5, 'T**A', color=color1, fontsize=14)\n",
    "ax.text(-27, 23, 'S**L', color=color2, fontsize=14)\n",
    "ax.set_title('IPC Code Comparison Scatter Plot', fontsize=18)\n",
    "ax.set_xticklabels(['' for i in range(6)])\n",
    "ax.set_yticklabels(['' for i in range(7)])\n",
    "plt.savefig('ipc-scatter-tsne.png')\n",
    "None"
   ]
  },
  {
   "cell_type": "markdown",
   "metadata": {
    "colab_type": "text",
    "id": "IBPTaK301DTr"
   },
   "source": [
    "### Use UMAP to Obtain 2-D (X, Y) Mapping"
   ]
  },
  {
   "cell_type": "code",
   "execution_count": 15,
   "metadata": {
    "colab": {
     "base_uri": "https://localhost:8080/",
     "height": 34
    },
    "colab_type": "code",
    "id": "NESVi2zFxV2j",
    "outputId": "7e47bfb2-1754-4eb2-d930-64e62b6c4f56"
   },
   "outputs": [
    {
     "name": "stdout",
     "output_type": "stream",
     "text": [
      "Rows: 588, Features: 2\n"
     ]
    }
   ],
   "source": [
    "import umap\n",
    "\n",
    "umap2d = umap.UMAP().fit_transform(tf)\n",
    "\n",
    "print('Rows: %d, Features: %d' % umap2d.shape)"
   ]
  },
  {
   "cell_type": "code",
   "execution_count": 17,
   "metadata": {},
   "outputs": [
    {
     "data": {
      "text/plain": [
       "array([[  5.94781971,   5.96396017],\n",
       "       [  6.74260616,   7.05643606],\n",
       "       [  3.30957913,   6.57019329],\n",
       "       [  5.8342948 ,  -2.38169169],\n",
       "       [  5.28762865,   8.43028259],\n",
       "       [  5.11947155,  -1.57347298],\n",
       "       [ -9.3924408 ,  -4.69294977],\n",
       "       [-10.13637733,  -4.8942275 ],\n",
       "       [  7.09280348,  -8.51702595],\n",
       "       [ -2.62122393,   7.61612654]], dtype=float32)"
      ]
     },
     "execution_count": 17,
     "metadata": {},
     "output_type": "execute_result"
    }
   ],
   "source": [
    "umap2d[:10, :]"
   ]
  },
  {
   "cell_type": "markdown",
   "metadata": {
    "colab_type": "text",
    "id": "AbpEn-va1VUy"
   },
   "source": [
    "### Scatter Plot of 2-D Data"
   ]
  },
  {
   "cell_type": "code",
   "execution_count": 24,
   "metadata": {
    "colab": {
     "base_uri": "https://localhost:8080/",
     "height": 516
    },
    "colab_type": "code",
    "id": "GOTsnejPxc8s",
    "outputId": "c7a2b2ed-fea5-49a5-bb27-8dad8a1db04f"
   },
   "outputs": [
    {
     "data": {
      "image/png": "[encoded data removed]",
      "text/plain": [
       "<matplotlib.figure.Figure at 0x7f4cef351080>"
      ]
     },
     "metadata": {},
     "output_type": "display_data"
    }
   ],
   "source": [
    "color1 = 'green'\n",
    "color2 = 'crimson'\n",
    "umap_df = pd.DataFrame(umap2d, columns=['x', 'y'])\n",
    "colors = np.where(df['company'] == 'TATA', color1, color2)\n",
    "ax = umap_df.plot.scatter(x='x', y='y', figsize=(8, 8), grid=True, \n",
    "   alpha=0.5, color=colors, edgecolors='white', s=96)\n",
    "ax.set_xlabel('')\n",
    "ax.set_ylabel('')\n",
    "ax.text(-11, 7.5, 'T**A', color=color1, fontsize=14)\n",
    "ax.text(-11, 6.5, 'S**L', color=color2, fontsize=14)\n",
    "ax.set_title('IPC Code Comparison Scatter Plot', fontsize=18)\n",
    "ax.set_xticklabels(['' for i in range(6)])\n",
    "ax.set_yticklabels(['' for i in range(7)])\n",
    "plt.savefig('ipc-scatter-umap.png')\n",
    "None"
   ]
  },
  {
   "cell_type": "markdown",
   "metadata": {},
   "source": [
    "# (Draft) The Example Project\n",
    "\n",
    "![IPC Scatter Plot](ipc-scatter-article.png)\n",
    "\n",
    "Each colored point on this scatter plot depicts an IPC code from a patent application of one company (identified by color). Points on such [t-SNE](https://en.wikipedia.org/wiki/T-distributed_stochastic_neighbor_embedding) mapping diagrams are located so that \"... *similar objects are modeled by nearby points and dissimilar objects are modeled by distant points* ...\" (quoted from [Wikipedia](https://en.wikipedia.org/wiki/T-distributed_stochastic_neighbor_embedding)). Any cluster of points all of the same color therefore could possibly be a strong group of related patents -- a matter of some concern to the other company. Such maps are useful for the identification of strong patent groups, white-spaces and [thickets](https://en.wikipedia.org/wiki/Patent_thicket) in the evaluation of competitive strengths.\n",
    "\n",
    "The input data used for this notebook (the Excel file named *resultList2.xls*) was downloaded earlier and then cleaned using a process described in the LinkedIn article."
   ]
  },
  {
   "cell_type": "code",
   "execution_count": null,
   "metadata": {},
   "outputs": [],
   "source": []
  }
 ],
 "metadata": {
  "colab": {
   "name": "ipc-scatter-map.ipynb",
   "provenance": [],
   "version": "0.3.2"
  },
  "kernelspec": {
   "display_name": "Python 3",
   "language": "python",
   "name": "python3"
  },
  "language_info": {
   "codemirror_mode": {
    "name": "ipython",
    "version": 3
   },
   "file_extension": ".py",
   "mimetype": "text/x-python",
   "name": "python",
   "nbconvert_exporter": "python",
   "pygments_lexer": "ipython3",
   "version": "3.6.3"
  }
 },
 "nbformat": 4,
 "nbformat_minor": 2
}
