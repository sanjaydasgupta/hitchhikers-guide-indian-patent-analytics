{
 "cells": [
  {
   "cell_type": "markdown",
   "metadata": {
    "colab_type": "text",
    "id": "wPy9pK98kg_x"
   },
   "source": [
    "# A Hitchhiker's Guide to Indian Patent Analytics\n",
    "\n",
    "This notebook is intended to be read with the article of the same title published on LinkedIn.\n",
    "\n",
    "This article shows how Indian Patent Office data downloaded from a free [PATENTSCOPE](http://patentscope.wipo.int) account can be used for patent analytics projects. The capabilities of such amateur efforts are obviously limited, but as the results here show, it is possible to perform moderately sophisticated search and comparison efforts. Such exercises can also be very effective as learning and training aids.\n",
    "\n",
    "In this example we compare the [IPC codes](https://en.wikipedia.org/wiki/International_Patent_Classification) in patent applications filed by two steel-making companies in the last 5 years. The results of the analysis are presented in the form of the scatter plot shown below.\n",
    "\n",
    "![IPC Scatter Plot](ipc-scatter-article.png)\n",
    "\n",
    "Each colored point on this scatter plot depicts an IPC code from a patent application of one company (identified by color). Points on such [t-SNE](https://en.wikipedia.org/wiki/T-distributed_stochastic_neighbor_embedding) mapping diagrams are located so that \"... *similar objects are modeled by nearby points and dissimilar objects are modeled by distant points* ...\" (quoted from [Wikipedia](https://en.wikipedia.org/wiki/T-distributed_stochastic_neighbor_embedding)). Any cluster of points all of the same color therefore could possibly be a strong group of related patents -- a matter of some concern to the other company. Such maps are useful for the identification of strong patent groups, white-spaces and [thickets](https://en.wikipedia.org/wiki/Patent_thicket) in the evaluation of competitive strengths.\n",
    "\n",
    "The input data used for this notebook (the Excel file named *resultList2.xls*) was downloaded earlier and then cleaned using a process described in the LinkedIn article."
   ]
  },
  {
   "cell_type": "markdown",
   "metadata": {
    "colab_type": "text",
    "id": "ysSPh8_7qJwC"
   },
   "source": [
    "# Preliminaries"
   ]
  },
  {
   "cell_type": "code",
   "execution_count": 1,
   "metadata": {},
   "outputs": [],
   "source": [
    "import pandas as pd\n",
    "import re\n",
    "import numpy as np\n",
    "import matplotlib.pyplot as plt\n",
    "\n",
    "%matplotlib inline"
   ]
  },
  {
   "cell_type": "markdown",
   "metadata": {
    "colab_type": "text",
    "id": "ysSPh8_7qJwC"
   },
   "source": [
    "### Load Excel from  Patentscope"
   ]
  },
  {
   "cell_type": "code",
   "execution_count": 2,
   "metadata": {
    "colab": {
     "base_uri": "https://localhost:8080/",
     "height": 51
    },
    "colab_type": "code",
    "id": "88DqzHxklr6a",
    "outputId": "17e07a17-73ed-4417-b792-81907f8ac827"
   },
   "outputs": [
    {
     "name": "stdout",
     "output_type": "stream",
     "text": [
      "Data has 1197 rows and 11 columns\n",
      "Columns: application_id, application_number, publication_number, publication_date, title, priority_data, ipc, applicants, inventors, fp_image, nat_phase_entries\n"
     ]
    }
   ],
   "source": [
    "import pandas as pd\n",
    "\n",
    "df = pd.read_excel('resultList2.xls', 'ResultSet')\n",
    "df.columns = [col.lower().replace(' ', '_') for col in df.columns]\n",
    "print('Data has %d rows and %d columns' % df.shape)\n",
    "print('Columns: %s' % ', '.join(df.columns))"
   ]
  },
  {
   "cell_type": "markdown",
   "metadata": {
    "colab_type": "text",
    "id": "CDJ1eDdQz_5E"
   },
   "source": [
    "### Select Last 5 Years Data"
   ]
  },
  {
   "cell_type": "code",
   "execution_count": 3,
   "metadata": {
    "colab": {
     "base_uri": "https://localhost:8080/",
     "height": 34
    },
    "colab_type": "code",
    "id": "Mw7KFU1Q0Az7",
    "outputId": "b0066246-e20f-4af2-c76e-6a6b0ded1fcf"
   },
   "outputs": [
    {
     "name": "stdout",
     "output_type": "stream",
     "text": [
      "Record count: 547\n"
     ]
    }
   ],
   "source": [
    "df5 = df[df['publication_date'].str.contains('\\d{2}.\\d{2}.201[4-8]')].copy()\n",
    "print('Record count: %d' % len(df5))"
   ]
  },
  {
   "cell_type": "markdown",
   "metadata": {
    "colab_type": "text",
    "id": "5-DAm_xIqqnQ"
   },
   "source": [
    "# Preliminary Data Analysis and Enrichment"
   ]
  },
  {
   "cell_type": "markdown",
   "metadata": {
    "colab_type": "text",
    "id": "j2uOCKrWtzEI"
   },
   "source": [
    "### Add a *company* column"
   ]
  },
  {
   "cell_type": "code",
   "execution_count": 4,
   "metadata": {
    "colab": {},
    "colab_type": "code",
    "id": "zQ_G6tZMmCBY"
   },
   "outputs": [],
   "source": [
    "df5['company'] = np.where(df5['applicants'].str.contains('TATA[ -]?STEEL'), 'TATA', 'SAIL')"
   ]
  },
  {
   "cell_type": "markdown",
   "metadata": {
    "colab_type": "text",
    "id": "SsAM_iVIt4vA"
   },
   "source": [
    "### Calculate and Display Relative Patent Counts"
   ]
  },
  {
   "cell_type": "code",
   "execution_count": 5,
   "metadata": {
    "colab": {
     "base_uri": "https://localhost:8080/",
     "height": 390
    },
    "colab_type": "code",
    "id": "1VFLjkMWpJxn",
    "outputId": "29082033-e7d6-4ca1-cc13-44e8fb2adc29"
   },
   "outputs": [
    {
     "name": "stdout",
     "output_type": "stream",
     "text": [
      "TATA    343\n",
      "SAIL    204\n",
      "Name: company, dtype: int64\n",
      "\n"
     ]
    },
    {
     "data": {
      "image/png": "[encoded data removed]",
      "text/plain": [
       "<matplotlib.figure.Figure at 0x7fea4f04af28>"
      ]
     },
     "metadata": {},
     "output_type": "display_data"
    }
   ],
   "source": [
    "counts = df5['company'].value_counts()\n",
    "\n",
    "print(counts)\n",
    "print('')\n",
    "\n",
    "ax = counts.plot.pie(figsize=(5, 5))\n",
    "ax.set_title('Relative Counts', fontsize=18)\n",
    "ax.set_ylabel('')\n",
    "None"
   ]
  },
  {
   "cell_type": "markdown",
   "metadata": {
    "colab_type": "text",
    "id": "SsAM_iVIt4vA"
   },
   "source": [
    "### Display Some Sample Data"
   ]
  },
  {
   "cell_type": "code",
   "execution_count": 6,
   "metadata": {
    "colab": {
     "base_uri": "https://localhost:8080/",
     "height": 649
    },
    "colab_type": "code",
    "id": "fNo7-D3e2l6O",
    "outputId": "109d1031-2aa7-4616-ea49-c0747ae97c66"
   },
   "outputs": [
    {
     "data": {
      "text/html": [
       "<div>\n",
       "<style scoped>\n",
       "    .dataframe tbody tr th:only-of-type {\n",
       "        vertical-align: middle;\n",
       "    }\n",
       "\n",
       "    .dataframe tbody tr th {\n",
       "        vertical-align: top;\n",
       "    }\n",
       "\n",
       "    .dataframe thead th {\n",
       "        text-align: right;\n",
       "    }\n",
       "</style>\n",
       "<table border=\"1\" class=\"dataframe\">\n",
       "  <thead>\n",
       "    <tr style=\"text-align: right;\">\n",
       "      <th></th>\n",
       "      <th>publication_number</th>\n",
       "      <th>publication_date</th>\n",
       "      <th>title</th>\n",
       "      <th>ipc</th>\n",
       "      <th>company</th>\n",
       "      <th>inventors</th>\n",
       "    </tr>\n",
       "  </thead>\n",
       "  <tbody>\n",
       "    <tr>\n",
       "      <th>1160</th>\n",
       "      <td>IN352/KOL/2015</td>\n",
       "      <td>20.10.2017</td>\n",
       "      <td>A COLD CHAMBER FOR AN ANNEALING SIMULATOR</td>\n",
       "      <td>G06F 17/50</td>\n",
       "      <td>SAIL</td>\n",
       "      <td>B.Ravi Kumar;S.K.Mandal;Nimai Halder;R.K.Sharm...</td>\n",
       "    </tr>\n",
       "    <tr>\n",
       "      <th>1146</th>\n",
       "      <td>IN1320/KOL/2013</td>\n",
       "      <td>29.05.2015</td>\n",
       "      <td>'A PROCESS FOR PRODUCTION OF LOW SULPHUR DIREC...</td>\n",
       "      <td>C22B 1/00</td>\n",
       "      <td>TATA</td>\n",
       "      <td>T VENUGOPALAN;Y RAJSHEKAR;KOTTANA NAVEEN KUMAR...</td>\n",
       "    </tr>\n",
       "    <tr>\n",
       "      <th>579</th>\n",
       "      <td>IN1509/KOL/2011</td>\n",
       "      <td>26.08.2016</td>\n",
       "      <td>AN IMPROVED METHOD TO PRODUCE PAVING BLOCKS FR...</td>\n",
       "      <td>E01C 5/22</td>\n",
       "      <td>TATA</td>\n",
       "      <td>MR. SANJAY KUMAR;MR. SUSHANTA KUMAR NATH;MR. T...</td>\n",
       "    </tr>\n",
       "    <tr>\n",
       "      <th>1150</th>\n",
       "      <td>IN1454/KOL/2013</td>\n",
       "      <td>10.07.2015</td>\n",
       "      <td>PROCESS FOR PRETREATMENT OF COAL AND MINERALS ...</td>\n",
       "      <td>B02C 19/00</td>\n",
       "      <td>TATA</td>\n",
       "      <td>VEERENDRA SINGH;PRADIP KUMAR BANERJEE;DR. G. J...</td>\n",
       "    </tr>\n",
       "    <tr>\n",
       "      <th>535</th>\n",
       "      <td>IN257/KOL/2015</td>\n",
       "      <td>20.10.2017</td>\n",
       "      <td>A BRIQUETTING COMPOSITION FOR USE IN BLAST FUR...</td>\n",
       "      <td>C10L 5/14</td>\n",
       "      <td>SAIL</td>\n",
       "      <td>Bhupendra Kr Dewangan;Dr.Srinivas Dwarapudi;Ch...</td>\n",
       "    </tr>\n",
       "  </tbody>\n",
       "</table>\n",
       "</div>"
      ],
      "text/plain": [
       "     publication_number publication_date  \\\n",
       "1160     IN352/KOL/2015       20.10.2017   \n",
       "1146    IN1320/KOL/2013       29.05.2015   \n",
       "579     IN1509/KOL/2011       26.08.2016   \n",
       "1150    IN1454/KOL/2013       10.07.2015   \n",
       "535      IN257/KOL/2015       20.10.2017   \n",
       "\n",
       "                                                  title         ipc company  \\\n",
       "1160          A COLD CHAMBER FOR AN ANNEALING SIMULATOR  G06F 17/50    SAIL   \n",
       "1146  'A PROCESS FOR PRODUCTION OF LOW SULPHUR DIREC...   C22B 1/00    TATA   \n",
       "579   AN IMPROVED METHOD TO PRODUCE PAVING BLOCKS FR...   E01C 5/22    TATA   \n",
       "1150  PROCESS FOR PRETREATMENT OF COAL AND MINERALS ...  B02C 19/00    TATA   \n",
       "535   A BRIQUETTING COMPOSITION FOR USE IN BLAST FUR...   C10L 5/14    SAIL   \n",
       "\n",
       "                                              inventors  \n",
       "1160  B.Ravi Kumar;S.K.Mandal;Nimai Halder;R.K.Sharm...  \n",
       "1146  T VENUGOPALAN;Y RAJSHEKAR;KOTTANA NAVEEN KUMAR...  \n",
       "579   MR. SANJAY KUMAR;MR. SUSHANTA KUMAR NATH;MR. T...  \n",
       "1150  VEERENDRA SINGH;PRADIP KUMAR BANERJEE;DR. G. J...  \n",
       "535   Bhupendra Kr Dewangan;Dr.Srinivas Dwarapudi;Ch...  "
      ]
     },
     "execution_count": 6,
     "metadata": {},
     "output_type": "execute_result"
    }
   ],
   "source": [
    "df5[['publication_number', 'publication_date', 'title', 'ipc', 'company', 'inventors']].sample(5)"
   ]
  },
  {
   "cell_type": "markdown",
   "metadata": {
    "colab_type": "text",
    "id": "DX-wYsHguIaQ"
   },
   "source": [
    "# *Feature Engineering* -- Convert IPC codes into Text (*Sentences*)\n",
    "\n",
    "Convert the IPC codes into *sentences* to facilitate subsequent processing with scikit-learn's [text-feature-extraction](http://scikit-learn.org/stable/modules/feature_extraction.html#text-feature-extraction) capabilities.\n",
    "\n",
    "### Extract IPC codes into arrays"
   ]
  },
  {
   "cell_type": "code",
   "execution_count": 8,
   "metadata": {
    "colab": {
     "base_uri": "https://localhost:8080/",
     "height": 51
    },
    "colab_type": "code",
    "id": "lYdAAaaKv0bS",
    "outputId": "82fdd738-4fe6-47ec-975d-3a2b5214c503"
   },
   "outputs": [
    {
     "name": "stdout",
     "output_type": "stream",
     "text": [
      "With IPCs record count: 543\n",
      "1 1.3333333333333333 4\n"
     ]
    }
   ],
   "source": [
    "ipc_regex = re.compile('[A-H]\\s*[0-9]{2}\\s*[A-Z]\\s*(?:[0-9]+(?:/(?:[0-9]+)?)?)?')\n",
    "\n",
    "df5['ipc_list'] = df5['ipc'].str.findall(ipc_regex)\n",
    "df5 = df5[df5['ipc_list'].str.len() != 0]\n",
    "\n",
    "print('With IPCs record count: %d' % len(df5))\n",
    "ipclen = df5['ipc_list'].str.len()\n",
    "print(ipclen.min(), ipclen.mean(), ipclen.max())"
   ]
  },
  {
   "cell_type": "markdown",
   "metadata": {
    "colab_type": "text",
    "id": "SsAM_iVIt4vA"
   },
   "source": [
    "### IPC to Sentence Converter"
   ]
  },
  {
   "cell_type": "code",
   "execution_count": 9,
   "metadata": {
    "colab": {
     "base_uri": "https://localhost:8080/",
     "height": 34
    },
    "colab_type": "code",
    "id": "KEHADwGkuUMX",
    "outputId": "18df92d4-2cc7-4b52-c885-bab655c50a2a"
   },
   "outputs": [],
   "source": [
    "ipcregex = re.compile('([A-H])\\s*(?:(\\d{2})\\s*(?:([A-Z])\\s*(?:(\\d+)\\s*(?:/\\s*(\\d+))?)?)?)?')\n",
    "\n",
    "def ipc_sentence(ipc):\n",
    "    parts = [part.strip('[ /]') for part in re.match(ipcregex, ipc).groups() if part]\n",
    "    s = parts[0]\n",
    "    if len(parts) > 1:\n",
    "        s += ' ' + parts[0] + parts[1]\n",
    "        if len(parts) > 2:\n",
    "            s += ' ' + parts[0] + parts[1] + parts[2]\n",
    "            if len(parts) > 3:\n",
    "                s += ' ' + parts[0] + parts[1] + parts[2] + parts[3]\n",
    "                if len(parts) > 4:\n",
    "                    s += ' ' + parts[0] + parts[1] + parts[2] + parts[3] + parts[4]\n",
    "    return s\n",
    "\n",
    "def multi_ipc_sentence(ipcs):\n",
    "    return ' '.join([ipc_sentence(ipc) for ipc in ipcs])"
   ]
  },
  {
   "cell_type": "markdown",
   "metadata": {
    "colab_type": "text",
    "id": "SsAM_iVIt4vA"
   },
   "source": [
    "### Test IPC to Sentence Conversion"
   ]
  },
  {
   "cell_type": "code",
   "execution_count": 10,
   "metadata": {
    "colab": {
     "base_uri": "https://localhost:8080/",
     "height": 34
    },
    "colab_type": "code",
    "id": "KEHADwGkuUMX",
    "outputId": "18df92d4-2cc7-4b52-c885-bab655c50a2a"
   },
   "outputs": [
    {
     "data": {
      "text/plain": [
       "'A A13 A13K A13K127 A13K127999'"
      ]
     },
     "execution_count": 10,
     "metadata": {},
     "output_type": "execute_result"
    }
   ],
   "source": [
    "multi_ipc_sentence(['A 13 K 127 / 999'])"
   ]
  },
  {
   "cell_type": "markdown",
   "metadata": {
    "colab_type": "text",
    "id": "SsAM_iVIt4vA"
   },
   "source": [
    "### Convert all IPC Codes"
   ]
  },
  {
   "cell_type": "code",
   "execution_count": 11,
   "metadata": {
    "colab": {
     "base_uri": "https://localhost:8080/",
     "height": 204
    },
    "colab_type": "code",
    "id": "BIopCicpvVdz",
    "outputId": "69358949-54a8-4f27-d1e1-205da0845343"
   },
   "outputs": [],
   "source": [
    "ipc_sentence = df5['ipc_list'].map(multi_ipc_sentence)"
   ]
  },
  {
   "cell_type": "markdown",
   "metadata": {
    "colab_type": "text",
    "id": "SsAM_iVIt4vA"
   },
   "source": [
    "### Display Converted Sentence Samples"
   ]
  },
  {
   "cell_type": "code",
   "execution_count": 12,
   "metadata": {
    "colab": {
     "base_uri": "https://localhost:8080/",
     "height": 204
    },
    "colab_type": "code",
    "id": "BIopCicpvVdz",
    "outputId": "69358949-54a8-4f27-d1e1-205da0845343"
   },
   "outputs": [
    {
     "data": {
      "text/plain": [
       "663     C C23 C23C C23C14 C23C1424 F F16 F16K F16K25 F...\n",
       "618     C C23 C23C C23C2 C23C200 C C22 C22C C22C38 C22...\n",
       "1158                             C C02 C02F C02F3 C02F300\n",
       "334                            B B22 B22D B22D11 B22D1110\n",
       "1080    G G05 G05B G05B19 G05B1900 B B23 B23Q B23Q5 B2...\n",
       "1146                             C C22 C22B C22B1 C22B100\n",
       "1089    F F16 F16D F16D1 F16D100 B B25 B25B B25B5 B25B500\n",
       "600                            C C04 C04B C04B28 C04B2814\n",
       "608     B B04 B04C B04C5 B04C500 B B04 B04C B04C3 B04C...\n",
       "151                           H H01 H01L H01L31 H01L31042\n",
       "Name: ipc_list, dtype: object"
      ]
     },
     "execution_count": 12,
     "metadata": {},
     "output_type": "execute_result"
    }
   ],
   "source": [
    "ipc_sentence.sample(10)"
   ]
  },
  {
   "cell_type": "markdown",
   "metadata": {
    "colab_type": "text",
    "id": "SsAM_iVIt4vA"
   },
   "source": [
    "# Apply Text-Processing Techniques"
   ]
  },
  {
   "cell_type": "markdown",
   "metadata": {
    "colab_type": "text",
    "id": "46vuDRga15SX"
   },
   "source": [
    "### Generate TF-IDF Word Counts"
   ]
  },
  {
   "cell_type": "code",
   "execution_count": 13,
   "metadata": {
    "colab": {
     "base_uri": "https://localhost:8080/",
     "height": 34
    },
    "colab_type": "code",
    "id": "Gt3R2c_WxKSt",
    "outputId": "836984a4-46e9-4170-8854-cde068c8d1bb"
   },
   "outputs": [
    {
     "name": "stdout",
     "output_type": "stream",
     "text": [
      "Rows: 543, Features: 887\n"
     ]
    }
   ],
   "source": [
    "from sklearn.feature_extraction.text import TfidfVectorizer\n",
    "\n",
    "vectorizer = TfidfVectorizer(use_idf=True, stop_words='english').fit(ipc_sentence)\n",
    "tf = vectorizer.transform(ipc_sentence)\n",
    "print('Rows: %d, Features: %d' % tf.shape)"
   ]
  },
  {
   "cell_type": "markdown",
   "metadata": {
    "colab_type": "text",
    "id": "SsAM_iVIt4vA"
   },
   "source": [
    "# Prepare Word Counts for Scatter Plot Display"
   ]
  },
  {
   "cell_type": "markdown",
   "metadata": {
    "colab_type": "text",
    "id": "Tx53DtDU1o0I"
   },
   "source": [
    "### Use TruncatedSVD to Reduce to 100 Features"
   ]
  },
  {
   "cell_type": "code",
   "execution_count": 14,
   "metadata": {
    "colab": {
     "base_uri": "https://localhost:8080/",
     "height": 34
    },
    "colab_type": "code",
    "id": "BYMQCQLTxRcE",
    "outputId": "0600812d-afc8-4f50-b92b-cef3173eaa5c"
   },
   "outputs": [
    {
     "name": "stdout",
     "output_type": "stream",
     "text": [
      "Rows: 543, Features: 100\n"
     ]
    }
   ],
   "source": [
    "from sklearn.decomposition import TruncatedSVD\n",
    "\n",
    "tsvd = TruncatedSVD(n_components=100)\n",
    "tsvd100 = tsvd.fit_transform(tf)\n",
    "print('Rows: %d, Features: %d' % tsvd100.shape)"
   ]
  },
  {
   "cell_type": "markdown",
   "metadata": {
    "colab_type": "text",
    "id": "IBPTaK301DTr"
   },
   "source": [
    "### Use t-SNE to Obtain 2-D (X, Y) Mapping"
   ]
  },
  {
   "cell_type": "code",
   "execution_count": 15,
   "metadata": {
    "colab": {
     "base_uri": "https://localhost:8080/",
     "height": 34
    },
    "colab_type": "code",
    "id": "NESVi2zFxV2j",
    "outputId": "7e47bfb2-1754-4eb2-d930-64e62b6c4f56"
   },
   "outputs": [
    {
     "name": "stdout",
     "output_type": "stream",
     "text": [
      "Rows: 543, Features: 2\n"
     ]
    }
   ],
   "source": [
    "from sklearn.manifold import TSNE\n",
    "\n",
    "tsne = TSNE(n_components=2).fit_transform(tsvd100)\n",
    "print('Rows: %d, Features: %d' % tsne.shape)"
   ]
  },
  {
   "cell_type": "markdown",
   "metadata": {
    "colab_type": "text",
    "id": "AbpEn-va1VUy"
   },
   "source": [
    "### Scatter Plot of 2-D Data"
   ]
  },
  {
   "cell_type": "code",
   "execution_count": 16,
   "metadata": {
    "colab": {
     "base_uri": "https://localhost:8080/",
     "height": 516
    },
    "colab_type": "code",
    "id": "GOTsnejPxc8s",
    "outputId": "c7a2b2ed-fea5-49a5-bb27-8dad8a1db04f"
   },
   "outputs": [
    {
     "data": {
      "image/png": "[encoded data removed]",
      "text/plain": [
       "<matplotlib.figure.Figure at 0x7fea38f63fd0>"
      ]
     },
     "metadata": {},
     "output_type": "display_data"
    }
   ],
   "source": [
    "color1 = 'green'\n",
    "color2 = 'red'\n",
    "tsne_df = pd.DataFrame(tsne, columns=['x', 'y'])\n",
    "colors = np.where(df5['company'] == 'TATA', color1, color2)\n",
    "#ax = tsne_df.plot.scatter(x='x', y='y', figsize=(12, 6), grid=True, alpha=0.5, color=colors, edgecolors='white', s=96)\n",
    "ax = tsne_df.plot.scatter(x='x', y='y', figsize=(8, 8), grid=True, alpha=0.5, color=colors, edgecolors='white', s=96)\n",
    "ax.set_xlabel('')\n",
    "ax.set_ylabel('')\n",
    "ax.text(-31, 25.5, 'T**A', color=color1, fontsize=14)\n",
    "ax.text(-31, 23, 'S**L', color=color2, fontsize=14)\n",
    "ax.set_title('IPC Code Comparison Scatter Plot', fontsize=18)\n",
    "ax.set_xticklabels(['' for i in range(6)])\n",
    "ax.set_yticklabels(['' for i in range(7)])\n",
    "plt.savefig('ipc-scatter.png')\n",
    "None"
   ]
  },
  {
   "cell_type": "code",
   "execution_count": null,
   "metadata": {},
   "outputs": [],
   "source": []
  }
 ],
 "metadata": {
  "colab": {
   "name": "ipc-scatter-map.ipynb",
   "provenance": [],
   "version": "0.3.2"
  },
  "kernelspec": {
   "display_name": "Python 3",
   "language": "python",
   "name": "python3"
  },
  "language_info": {
   "codemirror_mode": {
    "name": "ipython",
    "version": 3
   },
   "file_extension": ".py",
   "mimetype": "text/x-python",
   "name": "python",
   "nbconvert_exporter": "python",
   "pygments_lexer": "ipython3",
   "version": "3.6.3"
  }
 },
 "nbformat": 4,
 "nbformat_minor": 2
}
