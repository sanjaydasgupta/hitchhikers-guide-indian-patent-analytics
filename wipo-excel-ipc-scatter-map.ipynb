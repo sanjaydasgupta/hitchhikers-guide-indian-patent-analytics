{
 "cells": [
  {
   "cell_type": "markdown",
   "metadata": {
    "colab_type": "text",
    "id": "wPy9pK98kg_x"
   },
   "source": [
    "# A Hitchhiker's Guide to Indian Patent Analytics\n",
    "\n",
    "This notebook is intended to be read with the article of the same title [published on LinkedIn](https://www.linkedin.com/pulse/draft/AgGvJ9CZkdm63AAAAWZmrUzA6jtaXXUHIq2OjKruZEKaxFrRZp1Adc-nunE7H5pnVU8DakU)."
   ]
  },
  {
   "cell_type": "markdown",
   "metadata": {},
   "source": [
    "### Preliminaries"
   ]
  },
  {
   "cell_type": "code",
   "execution_count": 1,
   "metadata": {},
   "outputs": [],
   "source": [
    "import pandas as pd\n",
    "import re\n",
    "import numpy as np\n",
    "import matplotlib.pyplot as plt\n",
    "\n",
    "%matplotlib inline"
   ]
  },
  {
   "cell_type": "markdown",
   "metadata": {
    "colab_type": "text",
    "id": "ysSPh8_7qJwC"
   },
   "source": [
    "### Load Excel File Downloaded from Patentscope"
   ]
  },
  {
   "cell_type": "code",
   "execution_count": 2,
   "metadata": {
    "colab": {
     "base_uri": "https://localhost:8080/",
     "height": 51
    },
    "colab_type": "code",
    "id": "88DqzHxklr6a",
    "outputId": "17e07a17-73ed-4417-b792-81907f8ac827"
   },
   "outputs": [
    {
     "name": "stdout",
     "output_type": "stream",
     "text": [
      "Data has 592 rows and 11 columns\n",
      "Column names: application_id, application_number, publication_number, publication_date, title, priority_data, ipc, applicants, inventors, fp_image, nat_phase_entries\n"
     ]
    }
   ],
   "source": [
    "df = pd.read_excel('resultList2.xls', 'ResultSet')\n",
    "df.columns = [col.lower().replace(' ', '_') for col in df.columns]\n",
    "\n",
    "print('Data has %d rows and %d columns' % df.shape)\n",
    "print('Column names: %s' % ', '.join(df.columns))"
   ]
  },
  {
   "cell_type": "markdown",
   "metadata": {
    "colab_type": "text",
    "id": "5-DAm_xIqqnQ"
   },
   "source": [
    "# Preliminary Data Analysis and Enrichment"
   ]
  },
  {
   "cell_type": "markdown",
   "metadata": {
    "colab_type": "text",
    "id": "j2uOCKrWtzEI"
   },
   "source": [
    "### Add a *company* column"
   ]
  },
  {
   "cell_type": "code",
   "execution_count": 3,
   "metadata": {
    "colab": {},
    "colab_type": "code",
    "id": "zQ_G6tZMmCBY"
   },
   "outputs": [],
   "source": [
    "df['company'] = np.where(df['applicants'].str.contains('TATA STEEL'), \n",
    "    'TATA', 'SAIL')"
   ]
  },
  {
   "cell_type": "markdown",
   "metadata": {
    "colab_type": "text",
    "id": "SsAM_iVIt4vA"
   },
   "source": [
    "### Calculate and Display Relative Patent Counts"
   ]
  },
  {
   "cell_type": "code",
   "execution_count": 4,
   "metadata": {
    "colab": {
     "base_uri": "https://localhost:8080/",
     "height": 390
    },
    "colab_type": "code",
    "id": "1VFLjkMWpJxn",
    "outputId": "29082033-e7d6-4ca1-cc13-44e8fb2adc29"
   },
   "outputs": [
    {
     "name": "stdout",
     "output_type": "stream",
     "text": [
      "TATA    374\n",
      "SAIL    218\n",
      "Name: company, dtype: int64\n",
      "\n"
     ]
    },
    {
     "data": {
      "image/png": "[encoded data removed]",
      "text/plain": [
       "<matplotlib.figure.Figure at 0x7f8eb31a3710>"
      ]
     },
     "metadata": {},
     "output_type": "display_data"
    }
   ],
   "source": [
    "counts = df['company'].value_counts()\n",
    "\n",
    "print(counts)\n",
    "print('')\n",
    "\n",
    "ax = counts.plot.pie(figsize=(5, 5))\n",
    "ax.set_title('Relative Counts', fontsize=18)\n",
    "ax.set_ylabel('')\n",
    "None"
   ]
  },
  {
   "cell_type": "markdown",
   "metadata": {
    "colab_type": "text",
    "id": "SsAM_iVIt4vA"
   },
   "source": [
    "### Display Some Sample Data"
   ]
  },
  {
   "cell_type": "code",
   "execution_count": 5,
   "metadata": {
    "colab": {
     "base_uri": "https://localhost:8080/",
     "height": 649
    },
    "colab_type": "code",
    "id": "fNo7-D3e2l6O",
    "outputId": "109d1031-2aa7-4616-ea49-c0747ae97c66"
   },
   "outputs": [
    {
     "data": {
      "text/html": [
       "<div>\n",
       "<style scoped>\n",
       "    .dataframe tbody tr th:only-of-type {\n",
       "        vertical-align: middle;\n",
       "    }\n",
       "\n",
       "    .dataframe tbody tr th {\n",
       "        vertical-align: top;\n",
       "    }\n",
       "\n",
       "    .dataframe thead th {\n",
       "        text-align: right;\n",
       "    }\n",
       "</style>\n",
       "<table border=\"1\" class=\"dataframe\">\n",
       "  <thead>\n",
       "    <tr style=\"text-align: right;\">\n",
       "      <th></th>\n",
       "      <th>publication_number</th>\n",
       "      <th>publication_date</th>\n",
       "      <th>title</th>\n",
       "      <th>ipc</th>\n",
       "      <th>company</th>\n",
       "      <th>inventors</th>\n",
       "    </tr>\n",
       "  </thead>\n",
       "  <tbody>\n",
       "    <tr>\n",
       "      <th>482</th>\n",
       "      <td>IN218/KOL/2015</td>\n",
       "      <td>20.10.2017</td>\n",
       "      <td>METHOD FOR CONTROLLING THE TOE RADIUS OF RAILR...</td>\n",
       "      <td>B63B 17/00</td>\n",
       "      <td>SAIL</td>\n",
       "      <td>JHA SAMIR KUMAR;PRAKASH KUNDAN;THAKUR PURENDRA...</td>\n",
       "    </tr>\n",
       "    <tr>\n",
       "      <th>338</th>\n",
       "      <td>IN201631040349</td>\n",
       "      <td>01.06.2018</td>\n",
       "      <td>LOW-Ni AUSTENITIC STAINLESS STEEL WITH SUPERIO...</td>\n",
       "      <td>C22C 38/00;C21D 8/00;C21D 7/00</td>\n",
       "      <td>SAIL</td>\n",
       "      <td>PANDURANGAN, Saravanan;PANDURANGAN, Saravanan;...</td>\n",
       "    </tr>\n",
       "    <tr>\n",
       "      <th>24</th>\n",
       "      <td>IN43/KOL/2013</td>\n",
       "      <td>18.07.2014</td>\n",
       "      <td>A REAL- TIME PROCESS TO OPTIMIZE THE BLAST FUR...</td>\n",
       "      <td>C21B /</td>\n",
       "      <td>TATA</td>\n",
       "      <td>DEBJANI SAMBASIVAM;ARYA KUMAR BHATTACHARYA;ABH...</td>\n",
       "    </tr>\n",
       "    <tr>\n",
       "      <th>295</th>\n",
       "      <td>IN201631036879</td>\n",
       "      <td>04.05.2018</td>\n",
       "      <td>AN APPARATUS FOR ONLINE MEASUREMENT OF LIQUID ...</td>\n",
       "      <td>B22D 11/00</td>\n",
       "      <td>TATA</td>\n",
       "      <td>Abhishek  Chakraborty;Raghavendra Krishnamurth...</td>\n",
       "    </tr>\n",
       "    <tr>\n",
       "      <th>211</th>\n",
       "      <td>IN201631009827</td>\n",
       "      <td>10.11.2017</td>\n",
       "      <td>METHOD FOR CONCENTRATING THE VITRINITE GROUP M...</td>\n",
       "      <td>C10C 1/00</td>\n",
       "      <td>TATA</td>\n",
       "      <td>VIMAL KUMAR CHANDALIYA;RASHMI SINGH;PINAKPANI ...</td>\n",
       "    </tr>\n",
       "  </tbody>\n",
       "</table>\n",
       "</div>"
      ],
      "text/plain": [
       "    publication_number publication_date  \\\n",
       "482     IN218/KOL/2015       20.10.2017   \n",
       "338     IN201631040349       01.06.2018   \n",
       "24       IN43/KOL/2013       18.07.2014   \n",
       "295     IN201631036879       04.05.2018   \n",
       "211     IN201631009827       10.11.2017   \n",
       "\n",
       "                                                 title  \\\n",
       "482  METHOD FOR CONTROLLING THE TOE RADIUS OF RAILR...   \n",
       "338  LOW-Ni AUSTENITIC STAINLESS STEEL WITH SUPERIO...   \n",
       "24   A REAL- TIME PROCESS TO OPTIMIZE THE BLAST FUR...   \n",
       "295  AN APPARATUS FOR ONLINE MEASUREMENT OF LIQUID ...   \n",
       "211  METHOD FOR CONCENTRATING THE VITRINITE GROUP M...   \n",
       "\n",
       "                                ipc company  \\\n",
       "482                      B63B 17/00    SAIL   \n",
       "338  C22C 38/00;C21D 8/00;C21D 7/00    SAIL   \n",
       "24                           C21B /    TATA   \n",
       "295                      B22D 11/00    TATA   \n",
       "211                       C10C 1/00    TATA   \n",
       "\n",
       "                                             inventors  \n",
       "482  JHA SAMIR KUMAR;PRAKASH KUNDAN;THAKUR PURENDRA...  \n",
       "338  PANDURANGAN, Saravanan;PANDURANGAN, Saravanan;...  \n",
       "24   DEBJANI SAMBASIVAM;ARYA KUMAR BHATTACHARYA;ABH...  \n",
       "295  Abhishek  Chakraborty;Raghavendra Krishnamurth...  \n",
       "211  VIMAL KUMAR CHANDALIYA;RASHMI SINGH;PINAKPANI ...  "
      ]
     },
     "execution_count": 5,
     "metadata": {},
     "output_type": "execute_result"
    }
   ],
   "source": [
    "df[['publication_number', 'publication_date', 'title', 'ipc', 'company', 'inventors']].sample(5)"
   ]
  },
  {
   "cell_type": "markdown",
   "metadata": {
    "colab_type": "text",
    "id": "DX-wYsHguIaQ"
   },
   "source": [
    "# *Feature Engineering* -- Convert IPC codes into Text (*Sentences*)\n",
    "\n",
    "Convert the IPC codes into *sentences* to facilitate subsequent processing with scikit-learn's [text-feature-extraction](http://scikit-learn.org/stable/modules/feature_extraction.html#text-feature-extraction) capabilities.\n",
    "\n",
    "### Extract IPC codes into arrays"
   ]
  },
  {
   "cell_type": "code",
   "execution_count": 6,
   "metadata": {
    "colab": {
     "base_uri": "https://localhost:8080/",
     "height": 51
    },
    "colab_type": "code",
    "id": "lYdAAaaKv0bS",
    "outputId": "82fdd738-4fe6-47ec-975d-3a2b5214c503"
   },
   "outputs": [
    {
     "name": "stdout",
     "output_type": "stream",
     "text": [
      "Count of records with IPCs: 588\n",
      "IPC nbr: min=1, mean=1.406463, max=4\n"
     ]
    }
   ],
   "source": [
    "ipc_regex = re.compile('[A-H]\\s*[0-9]{2}\\s*[A-Z]\\s*(?:[0-9]+(?:/(?:[0-9]+)?)?)?')\n",
    "\n",
    "df['ipc_list'] = df['ipc'].str.findall(ipc_regex)\n",
    "df = df[df['ipc_list'].str.len() != 0]\n",
    "\n",
    "print('Count of records with IPCs: %d' % len(df))\n",
    "ipclen = df['ipc_list'].str.len()\n",
    "print('IPC nbr: min=%d, mean=%f, max=%d' % (ipclen.min(), ipclen.mean(), ipclen.max()))"
   ]
  },
  {
   "cell_type": "markdown",
   "metadata": {
    "colab_type": "text",
    "id": "SsAM_iVIt4vA"
   },
   "source": [
    "### IPC to Sentence Converter"
   ]
  },
  {
   "cell_type": "code",
   "execution_count": 7,
   "metadata": {
    "colab": {
     "base_uri": "https://localhost:8080/",
     "height": 34
    },
    "colab_type": "code",
    "id": "KEHADwGkuUMX",
    "outputId": "18df92d4-2cc7-4b52-c885-bab655c50a2a"
   },
   "outputs": [],
   "source": [
    "ipc_pattern = '([A-H])\\s*(?:(\\d{2})\\s*(?:([A-Z])\\s*(?:(\\d+)\\s*(?:/\\s*(\\d+))?)?)?)?'\n",
    "ipcregex = re.compile(ipc_pattern)\n",
    "\n",
    "def ipc_sentence(ipc):\n",
    "    parts = [part.strip('[ /]') for part in re.match(ipcregex, ipc).groups() if part]\n",
    "    s = parts[0]\n",
    "    if len(parts) > 1:\n",
    "        s += ' ' + parts[0] + parts[1]\n",
    "        if len(parts) > 2:\n",
    "            s += ' ' + parts[0] + parts[1] + parts[2]\n",
    "            if len(parts) > 3:\n",
    "                s += ' ' + parts[0] + parts[1] + parts[2] + parts[3]\n",
    "                if len(parts) > 4:\n",
    "                    s += ' ' + parts[0] + parts[1] + parts[2] + parts[3] + parts[4]\n",
    "    return s\n",
    "\n",
    "def multi_ipc_sentence(ipcs):\n",
    "    return ' '.join([ipc_sentence(ipc) for ipc in ipcs])"
   ]
  },
  {
   "cell_type": "markdown",
   "metadata": {
    "colab_type": "text",
    "id": "SsAM_iVIt4vA"
   },
   "source": [
    "### Test IPC to Sentence Conversion"
   ]
  },
  {
   "cell_type": "code",
   "execution_count": 8,
   "metadata": {
    "colab": {
     "base_uri": "https://localhost:8080/",
     "height": 34
    },
    "colab_type": "code",
    "id": "KEHADwGkuUMX",
    "outputId": "18df92d4-2cc7-4b52-c885-bab655c50a2a"
   },
   "outputs": [
    {
     "data": {
      "text/plain": [
       "'A A13 A13K A13K127 A13K127999'"
      ]
     },
     "execution_count": 8,
     "metadata": {},
     "output_type": "execute_result"
    }
   ],
   "source": [
    "multi_ipc_sentence(['A 13 K 127 / 999'])"
   ]
  },
  {
   "cell_type": "markdown",
   "metadata": {
    "colab_type": "text",
    "id": "SsAM_iVIt4vA"
   },
   "source": [
    "### Convert all IPC Codes"
   ]
  },
  {
   "cell_type": "markdown",
   "metadata": {
    "colab_type": "text",
    "id": "SsAM_iVIt4vA"
   },
   "source": [
    "### Display Converted Sentence Samples"
   ]
  },
  {
   "cell_type": "code",
   "execution_count": 9,
   "metadata": {
    "colab": {
     "base_uri": "https://localhost:8080/",
     "height": 204
    },
    "colab_type": "code",
    "id": "BIopCicpvVdz",
    "outputId": "69358949-54a8-4f27-d1e1-205da0845343"
   },
   "outputs": [
    {
     "data": {
      "text/plain": [
       "54     C C22 C22C C22C38 C22C3804 C C22 C22C C22C38 C...\n",
       "161    C C21 C21D C21D8 C21D812 H H01 H01F H01F1 H01F...\n",
       "260                             H H02 H02K H02K1 H02K127\n",
       "477                             F F21 F21S F21S8 F21S810\n",
       "114                                           C C23 C23C\n",
       "120                            B B03 B03D B03D1 B03D1016\n",
       "491                           C C10 C10B C10B39 C10B3916\n",
       "108                             B B03 B03B B03B9 B03B900\n",
       "212                             C C21 C21D C21D9 C21D946\n",
       "302    G G01 G01R G01R31 G01R3100 G G01 G01N G01N3 G0...\n",
       "Name: ipc_list, dtype: object"
      ]
     },
     "execution_count": 9,
     "metadata": {},
     "output_type": "execute_result"
    }
   ],
   "source": [
    "ipc_sentence = df['ipc_list'].map(multi_ipc_sentence)\n",
    "ipc_sentence.sample(10)"
   ]
  },
  {
   "cell_type": "markdown",
   "metadata": {
    "colab_type": "text",
    "id": "SsAM_iVIt4vA"
   },
   "source": [
    "# Apply Text-Processing Techniques"
   ]
  },
  {
   "cell_type": "markdown",
   "metadata": {
    "colab_type": "text",
    "id": "46vuDRga15SX"
   },
   "source": [
    "### Generate TF-IDF Word Counts"
   ]
  },
  {
   "cell_type": "code",
   "execution_count": 10,
   "metadata": {
    "colab": {
     "base_uri": "https://localhost:8080/",
     "height": 34
    },
    "colab_type": "code",
    "id": "Gt3R2c_WxKSt",
    "outputId": "836984a4-46e9-4170-8854-cde068c8d1bb"
   },
   "outputs": [
    {
     "name": "stdout",
     "output_type": "stream",
     "text": [
      "Rows: 588, Features: 984\n"
     ]
    }
   ],
   "source": [
    "from sklearn.feature_extraction.text import TfidfVectorizer\n",
    "\n",
    "vectorizer = TfidfVectorizer(use_idf=True, stop_words='english').fit(ipc_sentence)\n",
    "tf = vectorizer.transform(ipc_sentence)\n",
    "print('Rows: %d, Features: %d' % tf.shape)"
   ]
  },
  {
   "cell_type": "markdown",
   "metadata": {
    "colab_type": "text",
    "id": "SsAM_iVIt4vA"
   },
   "source": [
    "# Prepare Word Counts for Scatter Plot Display"
   ]
  },
  {
   "cell_type": "markdown",
   "metadata": {
    "colab_type": "text",
    "id": "Tx53DtDU1o0I"
   },
   "source": [
    "### Use TruncatedSVD to Reduce to 50 Features"
   ]
  },
  {
   "cell_type": "code",
   "execution_count": 11,
   "metadata": {
    "colab": {
     "base_uri": "https://localhost:8080/",
     "height": 34
    },
    "colab_type": "code",
    "id": "BYMQCQLTxRcE",
    "outputId": "0600812d-afc8-4f50-b92b-cef3173eaa5c"
   },
   "outputs": [
    {
     "name": "stdout",
     "output_type": "stream",
     "text": [
      "Rows: 588, Features: 50\n"
     ]
    }
   ],
   "source": [
    "from sklearn.decomposition import TruncatedSVD\n",
    "\n",
    "tsvd = TruncatedSVD(n_components=50)\n",
    "tsvd100 = tsvd.fit_transform(tf)\n",
    "print('Rows: %d, Features: %d' % tsvd100.shape)"
   ]
  },
  {
   "cell_type": "markdown",
   "metadata": {
    "colab_type": "text",
    "id": "IBPTaK301DTr"
   },
   "source": [
    "### Use t-SNE to Obtain 2-D (X, Y) Mapping"
   ]
  },
  {
   "cell_type": "code",
   "execution_count": 12,
   "metadata": {
    "colab": {
     "base_uri": "https://localhost:8080/",
     "height": 34
    },
    "colab_type": "code",
    "id": "NESVi2zFxV2j",
    "outputId": "7e47bfb2-1754-4eb2-d930-64e62b6c4f56"
   },
   "outputs": [
    {
     "name": "stdout",
     "output_type": "stream",
     "text": [
      "Rows: 588, Features: 2\n"
     ]
    }
   ],
   "source": [
    "from sklearn.manifold import TSNE\n",
    "\n",
    "tsne = TSNE(n_components=2).fit_transform(tsvd100)\n",
    "print('Rows: %d, Features: %d' % tsne.shape)"
   ]
  },
  {
   "cell_type": "code",
   "execution_count": 13,
   "metadata": {},
   "outputs": [
    {
     "data": {
      "text/plain": [
       "array([[-32.64204407,   2.55527902],\n",
       "       [  0.77148104,   2.51399899],\n",
       "       [  2.88212943,  21.16969109],\n",
       "       [ 11.57896805, -24.23793221],\n",
       "       [ 11.18965912,  -4.30511665],\n",
       "       [  6.19977379, -18.84681129],\n",
       "       [-11.47440243,  21.99637413],\n",
       "       [ -9.03295135,  23.0854187 ],\n",
       "       [-21.87161064,  -9.34305668],\n",
       "       [ 18.89047432,   8.46304512]], dtype=float32)"
      ]
     },
     "execution_count": 13,
     "metadata": {},
     "output_type": "execute_result"
    }
   ],
   "source": [
    "tsne[:10, :]"
   ]
  },
  {
   "cell_type": "markdown",
   "metadata": {
    "colab_type": "text",
    "id": "AbpEn-va1VUy"
   },
   "source": [
    "### Scatter Plot of 2-D Data"
   ]
  },
  {
   "cell_type": "code",
   "execution_count": 21,
   "metadata": {
    "colab": {
     "base_uri": "https://localhost:8080/",
     "height": 516
    },
    "colab_type": "code",
    "id": "GOTsnejPxc8s",
    "outputId": "c7a2b2ed-fea5-49a5-bb27-8dad8a1db04f"
   },
   "outputs": [
    {
     "data": {
      "image/png": "[encoded data removed]",
      "text/plain": [
       "<matplotlib.figure.Figure at 0x7f8e9084ac88>"
      ]
     },
     "metadata": {},
     "output_type": "display_data"
    }
   ],
   "source": [
    "color1 = 'green'\n",
    "color2 = 'crimson'\n",
    "tsne_df = pd.DataFrame(tsne, columns=['x', 'y'])\n",
    "colors = np.where(df['company'] == 'TATA', color1, color2)\n",
    "ax = tsne_df.plot.scatter(x='x', y='y', figsize=(8, 8), grid=True, \n",
    "   alpha=0.5, color=colors, edgecolors='white', s=96)\n",
    "ax.set_xlabel('')\n",
    "ax.set_ylabel('')\n",
    "ax.text(-27, 25.5, 'T**A', color=color1, fontsize=14)\n",
    "ax.text(-27, 23, 'S**L', color=color2, fontsize=14)\n",
    "ax.set_title('IPC Code Comparison (t-SNE)', fontsize=18)\n",
    "ax.set_xticklabels(['' for i in range(6)])\n",
    "ax.set_yticklabels(['' for i in range(7)])\n",
    "plt.savefig('ipc-scatter-tsne.png')\n",
    "None"
   ]
  },
  {
   "cell_type": "markdown",
   "metadata": {
    "colab_type": "text",
    "id": "IBPTaK301DTr"
   },
   "source": [
    "### Use UMAP to Obtain 2-D (X, Y) Mapping"
   ]
  },
  {
   "cell_type": "code",
   "execution_count": 15,
   "metadata": {
    "colab": {
     "base_uri": "https://localhost:8080/",
     "height": 34
    },
    "colab_type": "code",
    "id": "NESVi2zFxV2j",
    "outputId": "7e47bfb2-1754-4eb2-d930-64e62b6c4f56"
   },
   "outputs": [
    {
     "name": "stdout",
     "output_type": "stream",
     "text": [
      "Rows: 588, Features: 2\n"
     ]
    }
   ],
   "source": [
    "import umap\n",
    "\n",
    "umap2d = umap.UMAP().fit_transform(tf)\n",
    "\n",
    "print('Rows: %d, Features: %d' % umap2d.shape)"
   ]
  },
  {
   "cell_type": "code",
   "execution_count": 16,
   "metadata": {},
   "outputs": [
    {
     "data": {
      "text/plain": [
       "array([[ 11.63986111,  -0.42738858],\n",
       "       [ 13.19987774,  -0.66033715],\n",
       "       [  8.9006176 ,   4.09714746],\n",
       "       [  2.84797406,   1.70994651],\n",
       "       [ 10.35317135,  -0.41757518],\n",
       "       [  4.14213276,   0.91088641],\n",
       "       [ -1.55171263,  -2.40802693],\n",
       "       [ -1.98058283,  -2.71996164],\n",
       "       [ 10.34498215,  -9.02437115],\n",
       "       [ -5.12866735,   5.75599384]], dtype=float32)"
      ]
     },
     "execution_count": 16,
     "metadata": {},
     "output_type": "execute_result"
    }
   ],
   "source": [
    "umap2d[:10, :]"
   ]
  },
  {
   "cell_type": "markdown",
   "metadata": {
    "colab_type": "text",
    "id": "AbpEn-va1VUy"
   },
   "source": [
    "### Scatter Plot of 2-D Data"
   ]
  },
  {
   "cell_type": "code",
   "execution_count": 22,
   "metadata": {
    "colab": {
     "base_uri": "https://localhost:8080/",
     "height": 516
    },
    "colab_type": "code",
    "id": "GOTsnejPxc8s",
    "outputId": "c7a2b2ed-fea5-49a5-bb27-8dad8a1db04f"
   },
   "outputs": [
    {
     "data": {
      "image/png": "[encoded data removed]",
      "text/plain": [
       "<matplotlib.figure.Figure at 0x7f8e9046db00>"
      ]
     },
     "metadata": {},
     "output_type": "display_data"
    }
   ],
   "source": [
    "color1 = 'green'\n",
    "color2 = 'crimson'\n",
    "umap_df = pd.DataFrame(umap2d, columns=['x', 'y'])\n",
    "colors = np.where(df['company'] == 'TATA', color1, color2)\n",
    "ax = umap_df.plot.scatter(x='x', y='y', figsize=(8, 8), grid=True, \n",
    "   alpha=0.5, color=colors, edgecolors='white', s=96)\n",
    "ax.set_xlabel('')\n",
    "ax.set_ylabel('')\n",
    "ax.text(-22, 5, 'T**A', color=color1, fontsize=14)\n",
    "ax.text(-22, 4, 'S**L', color=color2, fontsize=14)\n",
    "ax.set_title('IPC Code Comparison (UMAP)', fontsize=18)\n",
    "ax.set_xticklabels(['' for i in range(6)])\n",
    "ax.set_yticklabels(['' for i in range(7)])\n",
    "plt.savefig('ipc-scatter-umap.png')\n",
    "None"
   ]
  },
  {
   "cell_type": "code",
   "execution_count": null,
   "metadata": {},
   "outputs": [],
   "source": []
  }
 ],
 "metadata": {
  "colab": {
   "name": "ipc-scatter-map.ipynb",
   "provenance": [],
   "version": "0.3.2"
  },
  "kernelspec": {
   "display_name": "Python 3",
   "language": "python",
   "name": "python3"
  },
  "language_info": {
   "codemirror_mode": {
    "name": "ipython",
    "version": 3
   },
   "file_extension": ".py",
   "mimetype": "text/x-python",
   "name": "python",
   "nbconvert_exporter": "python",
   "pygments_lexer": "ipython3",
   "version": "3.6.3"
  }
 },
 "nbformat": 4,
 "nbformat_minor": 2
}
