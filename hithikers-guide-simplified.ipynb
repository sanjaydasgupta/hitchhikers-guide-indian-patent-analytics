{
 "cells": [
  {
   "cell_type": "markdown",
   "metadata": {
    "colab_type": "text",
    "id": "wPy9pK98kg_x"
   },
   "source": [
    "# __This Notebook is still a *Work in Progress*__"
   ]
  },
  {
   "cell_type": "markdown",
   "metadata": {
    "colab_type": "text",
    "id": "wPy9pK98kg_x"
   },
   "source": [
    "# A Hitchhiker's Guide to Indian Patent Analytics\n",
    "\n",
    "This notebook is intended to be read with the article of the same title [published on LinkedIn](https://www.linkedin.com/pulse/draft/AgGvJ9CZkdm63AAAAWZmrUzA6jtaXXUHIq2OjKruZEKaxFrRZp1Adc-nunE7H5pnVU8DakU).\n",
    "\n",
    "This article shows how patent analytics studies on Indian patent data can be performed using entirely free tools and patent databases. The power of such techniques is limited, but as the featured example shows, even moderately sophisticated analyses can be performed. The results of such studies are valuable on their own, but these efforts are also useful as learning and training aids, and for planning larger patent analytics projects before making investments in commercial tools and resources.\n",
    "\n",
    "The approach described here has been usable [since mid-March 2018](http://www.wipo.int/patentscope/en/news/pctdb/2018/news_0002.html) when Indian patent data became available at [WIPO](http://www.wipo.int)'s patent-search portal [PATENTSCOPE](https://patentscope.wipo.int/). The crucial enabler is the *PATENTSCOPE* feature that allows search results to be downloaded to the user's computer for further processing. There are several other free patent search sites, but none of them have Indian patent data (or also allow download of results). The Indian patent office's search portal [inPASS](https://ipindiaservices.gov.in/publicsearch) also does not allow users to download search results (as of October 2018)."
   ]
  },
  {
   "cell_type": "markdown",
   "metadata": {},
   "source": [
    "### What is Patent Analytics?\n",
    "\n",
    "Patent analytics, patent informatics or just *patinformatics*, [has been defined as](https://pdfs.semanticscholar.org/bcd7/beec3e15a7351a98b402e9fd84ef82f841d7.pdf) \n",
    "\"*the science of analyzing patent information to discover relationships and trends*\", \n",
    "and as \"*... a macro-level science, that is analysis that deals with large quantities of patent information*\". Patent analytics projects use various techniques, and the terms [statistics](https://en.wikipedia.org/wiki/Statistics), [machine learning](https://en.wikipedia.org/wiki/Machine_learning), [deep learning](https://en.wikipedia.org/wiki/Deep_learning), [data science](https://en.wikipedia.org/wiki/Data_science), and [artificial intelligence](https://en.wikipedia.org/wiki/Artificial_intelligence) are often used. In this article we use the term data science as a collective term for all these techniques. \n",
    "You can read more about it in the Wikipedia article on [Patent Visualization](https://en.wikipedia.org/wiki/Patent_visualisation).\n",
    "\n",
    "The result of a patent analytics project is often expressed as charts, graphs, plots, and maps. Examples can be seen in slide 8 of [Spatial Concept Mapping as a Patent Landscaping Task](http://www.wipo.int/edocs/mdocs/mdocs/en/wipo_ip_rio_13/wipo_ip_rio_13_www_17.pdf) (PDF) and the topic maps in [this patent portfolio analysis](https://www.relecura.com/reports/Relecura_Whitepaper_-_Topic_Maps.pdf). A list of commercial patent analytics tools can be found in [Patent Analysis, Mapping, and Visualization Tools](https://wiki.piug.org/display/PIUG/Patent+Analysis%2C+Mapping%2C+and+Visualization+Tools)."
   ]
  },
  {
   "cell_type": "markdown",
   "metadata": {
    "colab_type": "text",
    "id": "wPy9pK98kg_x"
   },
   "source": [
    "### Structure of this Notebook\n",
    "\n",
    "This notebook deals with knowledge from two different domains: *patents* (see [wipo](http://www.wipo.int/patents)), and *machine learning* (see [wikipedia](https://en.wikipedia.org/wiki/Machine_learning)), so it also has two parts with corresponding titles. The first part, *Patent Search*, can be read and undertood well even by those without a background in patents. \n",
    "\n",
    "But the second part, *Machine Learning*, is considerably more specialized, and many readers will find the contents quite unfamiliar. However, machine learning is a rapidly growing field that is helping to finding solutions for intractable problems in many different domains. So getting an idea of the possibilities that it opens up is a worthwhile benefit for readers who make it to the end!\n",
    "\n",
    "The last part of the article, titled *Conclusions*, interprets the scatter-plot produced by the example project, and summarizes the main takeaways from the article."
   ]
  },
  {
   "cell_type": "markdown",
   "metadata": {},
   "source": [
    "### An Example Project\n",
    "\n",
    "This example illustrates the approach, and also shows what skills and tools are needed. It investigates the use of patent applications filed by two companies to obtain [competitive intelligence](https://en.wikipedia.org/wiki/Competitive_intelligence) on their fields of current and future interest. The exercise uses patents filed by two well known Indian steel-making companies, [Tata Steel](https://en.wikipedia.org/wiki/Tata_Steel) and [Steel Authority of India](https://en.wikipedia.org/wiki/Steel_Authority_of_India), in the last 5 years"
   ]
  },
  {
   "cell_type": "markdown",
   "metadata": {},
   "source": [
    "The output desired is a [scatter plot](https://en.wikipedia.org/wiki/Scatter_plot) on which patents are represented as points whose proximity is determined by the similarity of their subject matter of their patent application. Points representing similar subject matters will therefore appear clustered together, while dissimilar subject matters will be spaced far apart. These plots, sometimes called *topic maps*, are often used where the grouping of complex concepts has to be depicted visually. Several examples of such plots can be seen in [this white paper](https://www.relecura.com/reports/Relecura_Whitepaper_-_Topic_Maps.pdf)."
   ]
  },
  {
   "cell_type": "markdown",
   "metadata": {
    "colab_type": "text",
    "id": "ysSPh8_7qJwC"
   },
   "source": [
    "## Part-1. Patent Search\n",
    "\n",
    "As explained above, this analysis is concerned with a bunch of patent applications filed in India by two steel-producing companies. This part of the article explains how that patent data was obtained from [PATENTSCOPE](https://patentscope.wipo.int/). Since the analysis requires a number of patent applications from two competing organizations in the same industry, [Tata Steel](https://en.wikipedia.org/wiki/Tata_Steel/) and [Steel Authority of India](https://en.wikipedia.org/wiki/Steel_Authority_of_India) were selected. These two organizations are similar enough to be featured in a comparative study of this nature."
   ]
  },
  {
   "cell_type": "markdown",
   "metadata": {
    "colab_type": "text",
    "id": "ysSPh8_7qJwC"
   },
   "source": [
    "### Search Parameters\n",
    "\n",
    "The first step is to select *Field Combination* from the Search menu as seen in Figure-1 below.\n",
    "\n",
    "<br/>\n",
    "<br/>\n",
    "<img src=\"patentscope-011.png\" height=\"75%\" width=\"75%\"/><br/>\n",
    "__Figure-1. Selecting \"Field Combination\" search__\n",
    "<br/>\n",
    "<br/>\n",
    "\n",
    "When *Field Combination* is selected, the form expands to accommodate the choice of a large number of input parameters. To obtain the data for this exercise, three search fields were used as seen in Figure-2 below.\n",
    "\n",
    "<br/>\n",
    "<br/>\n",
    "<img src=\"patentscope-025.png\" height=\"75%\" width=\"75%\"/><br/>\n",
    "__Figure-2. Entering search parameters__\n",
    "<br/>\n",
    "<br/>\n",
    "\n",
    "Setting *Office Code* to *IN* indicates our interest in data only from the Indian Patent Office. Setting *Applicant Name* as shown above yields applications from the two companies we chose earlier, and setting the *Publication Date* as shown limits the applications listed to those published in the last 5 years. Observe that the number of records matching the search criteria is shown at the bottom of the screen to the left of the *Search* button. The data produced by these settings is convenient for illustrating the ideas described in this notebook. You can read about the other settings and features in PATENTSCOPE's extensive [User's Guide](https://patentscope.wipo.int/search/en/help/users_guide_summer2017.pdf) (PDF)."
   ]
  },
  {
   "cell_type": "markdown",
   "metadata": {},
   "source": [
    "### Downloading Results\n",
    "\n",
    "Clicking the Search button near the bottom right displays the results screen seen in Figure-3 below.\n",
    "\n",
    "<br/>\n",
    "<br/>\n",
    "<img src=\"patentscope-038.png\" height=\"75%\" width=\"75%\"/><br/>\n",
    "__Figure-3. Search results screen__\n",
    "<br/>\n",
    "<br/>\n",
    "\n",
    "The 592 records (red highlight near top-left) found can be downloaded as an Excel spreadsheet by clicking the download icon marked *10K* (red highlight near top-right). Observe that it is necessary to be logged in as an authorized user to be able to download the results.\n",
    "\n",
    "A free PATENTSCOPE account permits users to download *some* data, and the free quota is fortunately adequate for this demo exercise. Searches that produce large volumes of result data may, however, need to use a paid account. "
   ]
  },
  {
   "cell_type": "markdown",
   "metadata": {
    "colab_type": "text",
    "id": "ysSPh8_7qJwC"
   },
   "source": [
    "## Part-2. Machine Learning\n",
    "\n",
    "This part is a simplified non-technical explanation of how the data from PATENTSCOPE is used to produce the desired scatter-plot. The data transformation is performed in a [Jupyter notebook](https://jupyter-notebook.readthedocs.io/en/stable/notebook.html) -- a tool of choice for many people who love data. Jupyter notebooks encourage [literate programming](https://en.wikipedia.org/wiki/Literate_programming), and allow the project's programming code to be divided into smaller [code cells](https://jupyter-notebook.readthedocs.io/en/stable/examples/Notebook/Running%20Code.html?highlight=cell) interspersed with [documentation cells](https://jupyter-notebook.readthedocs.io/en/stable/examples/Notebook/Working%20With%20Markdown%20Cells.html?highlight=markdown%20cells) that contain text and diagrams explaining the code.\n",
    "\n",
    "The paragraphs below explain the steps in the notebook, and also provide a flavor of the programming required through short snippets of [Python](https://www.python.org/) (a computer programming language) code used in the notebook. Readers interested in more detail may [access the notebook directly](https://github.com/sanjaydasgupta/hitchhikers-guide-indian-patent-analytics/blob/master/wipo-excel-ipc-scatter-map.ipynb) on GitHub. The [Excel file](https://github.com/sanjaydasgupta/hitchhikers-guide-indian-patent-analytics/blob/master/resultList2.xls) that the notebook processes is also in the same repository."
   ]
  },
  {
   "cell_type": "markdown",
   "metadata": {},
   "source": [
    "### An Overview of the Transformation Process\n",
    "\n",
    "The complete process, from PATENTSCOPE data to scatter-plot, contains the following steps:\n",
    "\n",
    "- Load data from the Excel file\n",
    "- Clean the loaded data\n",
    "- Obtain word-count vectors\n",
    "- Convert word-counts to x-y coordinates\n",
    "- Create scatter plot from x-y points\n",
    "\n",
    "Steps 3 and 4 above are particularly technical, but it is not necessary to understand every detail to follow the overall process."
   ]
  },
  {
   "cell_type": "markdown",
   "metadata": {},
   "source": [
    "### Load Data from the Excel File\n",
    "\n",
    "The snippet below is from the notebook's first [code cell](https://jupyter-notebook.readthedocs.io/en/stable/examples/Notebook/Running%20Code.html?highlight=cell). It loads the Excel file and reports the number of rows and the names of the columns.\n",
    "\n",
    "![load data into pandas](load-into-pandas-02.png)"
   ]
  },
  {
   "cell_type": "markdown",
   "metadata": {},
   "source": [
    "### Clean the Data\n",
    "\n",
    "Errors, gaps, and [other dirt in data](https://en.wikipedia.org/wiki/Dirty_data) are common recurrent themes in data-science work, and [it has been estimated](https://www.forbes.com/sites/gilpress/2016/03/23/data-preparation-most-time-consuming-least-enjoyable-data-science-task-survey-says/) that data preparation alone accounts for about 80% of the work of data scientists. The PATENTSCOPE data too has defects that must be corrected before further processing."
   ]
  },
  {
   "cell_type": "markdown",
   "metadata": {},
   "source": [
    "#### Removing Redundant Rows from the Excel File\n",
    "\n",
    "There are two rows at the top of the spreadsheet (an empty row and a Query row, see figure below) that have to be removed. Note that although this step is described here (in the correct section), it must in fact be performed (manually) before the data is loaded into Jupyter as described above.\n",
    "\n",
    "![excel file](patentscope-040.png)"
   ]
  },
  {
   "cell_type": "markdown",
   "metadata": {},
   "source": [
    "#### Cleaning data in the APPLICANTS Column\n",
    "\n",
    "The APPLICANTS column contains variants of each company name (e.g. TATA STEEL, TATA STEEL LIMITED, etc.) which needs to be unified into one of the two distinct company names. We handle this by adding a new column called COMPANY that contains an unambiguous indication of the applicant organization -- just TATA or SAIL.\n",
    "\n",
    "![create company column](create-company-column.png)"
   ]
  },
  {
   "cell_type": "markdown",
   "metadata": {},
   "source": [
    "#### Reorganizing the IPC Column\n",
    "\n",
    "The IPC column contains a variable number of IPC-code values separated by a semicolon, so we convert each such composite entry into an array of single IPC-code values to simplify subsequent steps.\n",
    "\n",
    "![reorganizing ipc column](reorganize-ipc-column.png)"
   ]
  },
  {
   "cell_type": "markdown",
   "metadata": {},
   "source": [
    "There will be much more to do with IPC-codes below, where we convert each IPC-code into a sentence-like string, but that is [feature engineering](https://en.wikipedia.org/wiki/Feature_engineering) not [data cleansing](https://en.wikipedia.org/wiki/Data_cleansing)."
   ]
  },
  {
   "cell_type": "markdown",
   "metadata": {},
   "source": [
    "### Obtain Word-Count Vectors\n",
    "\n",
    "The lore of machine learning abounds with stories of the use of [text similarity](https://en.wikipedia.org/wiki/Semantic_similarity). A few years ago [one interesting study](https://mapr.com/blog/comparing-kill-mockingbird-its-sequel-with-apache-spark/) even tried to determine if [Harper Lee](https://en.wikipedia.org/wiki/Harper_Lee) really wrote [Go Set a Watchman](https://en.wikipedia.org/wiki/Go_Set_a_Watchman) by measuring the similarity of its grammatical structures with those of [To Kill a Mockingbird](https://en.wikipedia.org/wiki/To_Kill_a_Mockingbird).\n",
    "\n",
    "Naturally, there are also many ways of [characterizing text](https://en.wikipedia.org/wiki/Text_mining) (for determining similarity) that could be applied to the title and abstract fields of the patent applications. But the IPC-code (which is assigned by the patent office) is more accurate, and should be the preferred basis for determining similarity in this case."
   ]
  },
  {
   "cell_type": "markdown",
   "metadata": {},
   "source": [
    "#### Engineering IPC-Codes into Pseudo-Sentences\n",
    "\n",
    "IPC-codes are a [5-part hierarchy](http://www.wipo.int/classifications/ipc/ipcpub), so counting the number of matching parts at the head of the structure yields a convenient 0-5 score of similarity between any two IPC-codes. Certain [commonly used algorithms](https://en.wikipedia.org/wiki/Bag-of-words_model) used for measuring text similarity can be reused to automate this calculation if we just convert each IPC-code into a \"sentence\" whose words are the 5 IPC parts. For example, \"__B32B 15/01__\" becomes \"__B B32 B32B B32B15 B32B1501__\""
   ]
  },
  {
   "cell_type": "markdown",
   "metadata": {},
   "source": [
    "![ipc sentence function](ipc-sentence-function.png)"
   ]
  },
  {
   "cell_type": "markdown",
   "metadata": {},
   "source": [
    "The conversion of a feature of the input data into a more useful form is often called [feature engineering](https://en.wikipedia.org/wiki/Feature_engineering)."
   ]
  },
  {
   "cell_type": "markdown",
   "metadata": {},
   "source": [
    "#### Obtaining Word-Count Vectors\n",
    "\n",
    "Most text-processing approaches start with a [bag of words](https://en.wikipedia.org/wiki/Bag-of-words_model) model of the input text. The cell below converts the pseudo-sentences mentioned above into word-count vectors that hold the bag of words."
   ]
  },
  {
   "cell_type": "markdown",
   "metadata": {},
   "source": [
    "![obtain word counts](obtain-word-counts.png)"
   ]
  },
  {
   "cell_type": "markdown",
   "metadata": {},
   "source": [
    "### Convert Word-Counts to X-Y Coordinates\n",
    "\n",
    "The following cells use [t-SNE](https://en.wikipedia.org/wiki/T-distributed_stochastic_neighbor_embedding) (a popular method for visualizing clusters in complex data) to convert the word-count vectors into 2-dimensional points that can be placed on a scatter plot. Points on a t-SNE mapped scatter-plot are located so that \"... similar objects are modeled by nearby points and dissimilar objects are modeled by distant points ...\" (see [wikipedia](https://en.wikipedia.org/wiki/T-distributed_stochastic_neighbor_embedding))."
   ]
  },
  {
   "cell_type": "markdown",
   "metadata": {},
   "source": [
    "![truncated svd](truncated-svd.png)"
   ]
  },
  {
   "cell_type": "markdown",
   "metadata": {},
   "source": [
    "![tsne](tsne.png)"
   ]
  },
  {
   "cell_type": "markdown",
   "metadata": {},
   "source": [
    "The theory underlying these steps is daunting, and is ignored even by many of those who use these methods regularly."
   ]
  },
  {
   "cell_type": "markdown",
   "metadata": {},
   "source": [
    "### Create Scatter-Plot from X-Y Coordinates\n",
    "\n",
    "The cell below creates a scatter plot of the patent data. This is the last stop on our journey."
   ]
  },
  {
   "cell_type": "markdown",
   "metadata": {},
   "source": [
    "![scatter plot](scatter-plot.png)"
   ]
  },
  {
   "cell_type": "markdown",
   "metadata": {},
   "source": [
    "The scatter plot produced is seen below."
   ]
  },
  {
   "cell_type": "markdown",
   "metadata": {},
   "source": [
    "![scatter plot plot](scatter-plot-plot.png)"
   ]
  },
  {
   "cell_type": "markdown",
   "metadata": {},
   "source": [
    "Each point on the plot represents one patent application, and its color indicates the company it is associated with. The colors are rendered with an [alpha](https://en.wikipedia.org/wiki/Alpha_compositing) (transparency) of 50%, so overlapping points do not eclipse one another."
   ]
  },
  {
   "cell_type": "markdown",
   "metadata": {},
   "source": [
    "## Part-3. Conclusions\n",
    "\n",
    "### Interpreting the Scatter-Plot\n",
    "\n",
    "There are some patches on the plot that contain only green points, and other patches that contain only crimson points. These are patent applications in areas that one of the competitors has ignored completely. There are also [thickets](https://en.wikipedia.org/wiki/Patent_thicket) containing a jumble of patents from both companies. These too should be examined to identify potential infringements or complimentary patents that may be cross-licensing candidates.\n",
    "\n",
    "It is also easy to conclude that the empty spaces represent patent white space (an extended area with little or no patenting activity). This is certainly an intuitive deduction, but beware of the issues mentioned in the section The Pros and Cons of t-SNE."
   ]
  },
  {
   "cell_type": "markdown",
   "metadata": {},
   "source": [
    "### The Pros and Cons of t-SNE\n",
    "\n",
    "The [t-SNE](https://en.wikipedia.org/wiki/T-distributed_stochastic_neighbor_embedding) procedure works well for many data-sets and produces compelling visual results. But it is possible for humans to misinterpret the clusters and spaces in the plots produced, so it is important to understand the [possible applications](https://stats.stackexchange.com/questions/263539/clustering-on-the-output-of-t-sne) as well as the [potential pitfalls](https://distill.pub/2016/misread-tsne/)."
   ]
  },
  {
   "cell_type": "markdown",
   "metadata": {},
   "source": [
    "#### Should Patent Professionals learn Data-Science?\n",
    "\n",
    "It is hard to reach this point without thinking about this.\n",
    "\n",
    "It is true that the skills and knowledge required for applying data-science are completely different from those used by traditional patent practitioners. But data-science is rapidly infiltrating the commercial tools, and the techniques are being increasingly used and talked about. So, while it may be impractical for everyone to start learning data-science tools and techniques, promoting an understanding of the possibilities may be very useful."
   ]
  },
  {
   "cell_type": "code",
   "execution_count": null,
   "metadata": {},
   "outputs": [],
   "source": []
  }
 ],
 "metadata": {
  "colab": {
   "name": "ipc-scatter-map.ipynb",
   "provenance": [],
   "version": "0.3.2"
  },
  "kernelspec": {
   "display_name": "Python 3",
   "language": "python",
   "name": "python3"
  },
  "language_info": {
   "codemirror_mode": {
    "name": "ipython",
    "version": 3
   },
   "file_extension": ".py",
   "mimetype": "text/x-python",
   "name": "python",
   "nbconvert_exporter": "python",
   "pygments_lexer": "ipython3",
   "version": "3.6.5"
  }
 },
 "nbformat": 4,
 "nbformat_minor": 2
}
